{
 "cells": [
  {
   "cell_type": "code",
   "execution_count": 1,
   "metadata": {},
   "outputs": [
    {
     "name": "stderr",
     "output_type": "stream",
     "text": [
      "Using TensorFlow backend.\n"
     ]
    }
   ],
   "source": [
    "import numpy as np\n",
    "from matplotlib import pyplot as plt\n",
    "%matplotlib inline\n",
    "import pandas as pd\n",
    "\n",
    "import keras\n",
    "from keras.utils import np_utils\n",
    "from keras.models import Sequential,Input,Model\n",
    "from keras.layers import Dense, Dropout, Flatten\n",
    "from keras.layers import Conv2D, MaxPooling2D\n",
    "from keras.layers.normalization import BatchNormalization"
   ]
  },
  {
   "cell_type": "code",
   "execution_count": 2,
   "metadata": {
    "collapsed": true
   },
   "outputs": [],
   "source": [
    "face_recog_data = pd.read_csv('fer2013.csv')\n",
    "face_recog_data.head()\n",
    "\n",
    "train_data = face_recog_data[[\"emotion\", \"pixels\"]][face_recog_data[\"Usage\"] == \"Training\"]\n",
    "test_data = face_recog_data[[\"emotion\", \"pixels\"]][face_recog_data[\"Usage\"] == \"PublicTest\"]\n",
    "\n",
    "#loading training data\n",
    "training_target_values = np.array(train_data['emotion'])\n",
    "training_target_values = training_target_values.astype(np.float32)\n",
    "training_input_face_images = np.vstack((train_data['pixels'].apply(lambda pixel : np.fromstring(pixel, sep=' '))))\n",
    "training_input_face_images = np.reshape(training_input_face_images, (training_input_face_images.shape[0], 48, 48))\n",
    "training_input_face_images = training_input_face_images.astype(np.float32)\n",
    "training_input_face_images = training_input_face_images\n",
    "\n",
    "#loading test data\n",
    "testing_target_values = np.array(test_data['emotion'])\n",
    "testing_target_values = testing_target_values.astype(np.float32)\n",
    "testing_input_face_images = np.vstack((test_data['pixels'].apply(lambda pixel : np.fromstring(pixel, sep=' '))))\n",
    "testing_input_face_images = np.reshape(testing_input_face_images, (testing_input_face_images.shape[0], 48, 48))\n",
    "testing_input_face_images = testing_input_face_images.astype(np.float32)\n",
    "testing_input_face_images = testing_input_face_images\n"
   ]
  },
  {
   "cell_type": "code",
   "execution_count": 3,
   "metadata": {},
   "outputs": [
    {
     "name": "stdout",
     "output_type": "stream",
     "text": [
      "(28709, 48, 48) (28709,)\n",
      "(3589, 48, 48) (3589,)\n"
     ]
    }
   ],
   "source": [
    "print(training_input_face_images.shape, training_target_values.shape)\n",
    "print(testing_input_face_images.shape, testing_target_values.shape)"
   ]
  },
  {
   "cell_type": "code",
   "execution_count": 4,
   "metadata": {
    "collapsed": true
   },
   "outputs": [],
   "source": [
    "#data_length = 28709\n",
    "#split = int(data_length * 0.8)\n",
    "\n",
    "\n",
    "\n",
    "X_train = training_input_face_images\n",
    "X_val = testing_input_face_images\n",
    "\n",
    "y_train = np_utils.to_categorical(training_target_values[:])\n",
    "y_val = np_utils.to_categorical(training_target_values)\n",
    "\n",
    "#print(X_train.shape, X_val.shape)\n",
    "#print(y_train.shape, y_val.shape)"
   ]
  },
  {
   "cell_type": "code",
   "execution_count": 5,
   "metadata": {
    "scrolled": true
   },
   "outputs": [
    {
     "data": {
      "text/plain": [
       "Text(0.5,1,'[ 1.  0.  0.  0.  0.  0.  0.]')"
      ]
     },
     "execution_count": 5,
     "metadata": {},
     "output_type": "execute_result"
    },
    {
     "data": {
      "image/png": "[encoded data removed]",
      "text/plain": [
       "<matplotlib.figure.Figure at 0x14eb5611eb8>"
      ]
     },
     "metadata": {},
     "output_type": "display_data"
    }
   ],
   "source": [
    "plt.figure(figsize=[5, 5])\n",
    "plt.imshow(X_train[0], cmap='gray')\n",
    "plt.title(y_train[0])"
   ]
  },
  {
   "cell_type": "code",
   "execution_count": 6,
   "metadata": {},
   "outputs": [
    {
     "name": "stdout",
     "output_type": "stream",
     "text": [
      "(3589, 7) (3589, 48, 48, 1)\n"
     ]
    }
   ],
   "source": [
    "X_train = X_train.reshape(-1, 48, 48, 1)\n",
    "#X_val = X_val.reshape(-1, 48, 48, 1)\n",
    "X_test = testing_input_face_images.reshape(-1, 48,48, 1)\n",
    "y_test = testing_target_values\n",
    "y_test = np_utils.to_categorical(testing_target_values)\n",
    "print(y_test.shape, X_test.shape)"
   ]
  },
  {
   "cell_type": "code",
   "execution_count": 7,
   "metadata": {
    "collapsed": true
   },
   "outputs": [],
   "source": [
    "X_train = X_train.astype('float32')\n",
    "#X_val = X_val.astype('float32')\n",
    "X_test = X_test.astype('float32')\n",
    "#X_train = X_train/255.0\n",
    "#X_val = X_val/255.0\n",
    "#X_test = X_test/255.0"
   ]
  },
  {
   "cell_type": "code",
   "execution_count": 8,
   "metadata": {},
   "outputs": [
    {
     "name": "stdout",
     "output_type": "stream",
     "text": [
      "[[ 1.  0.  0.  0.  0.  0.  0.]\n",
      " [ 1.  0.  0.  0.  0.  0.  0.]\n",
      " [ 0.  0.  1.  0.  0.  0.  0.]\n",
      " [ 0.  0.  0.  0.  1.  0.  0.]\n",
      " [ 0.  0.  0.  0.  0.  0.  1.]]\n"
     ]
    }
   ],
   "source": [
    "print(y_train[:5])"
   ]
  },
  {
   "cell_type": "code",
   "execution_count": 9,
   "metadata": {
    "collapsed": true
   },
   "outputs": [],
   "source": [
    "batch_size = 128\n",
    "epochs = 40\n",
    "num_classes = 7"
   ]
  },
  {
   "cell_type": "code",
   "execution_count": 10,
   "metadata": {},
   "outputs": [
    {
     "name": "stdout",
     "output_type": "stream",
     "text": [
      "WARNING:tensorflow:From C:\\Users\\Mayank  Bhandari\\Anaconda3\\lib\\site-packages\\keras\\backend\\tensorflow_backend.py:1062: calling reduce_prod (from tensorflow.python.ops.math_ops) with keep_dims is deprecated and will be removed in a future version.\n",
      "Instructions for updating:\n",
      "keep_dims is deprecated, use keepdims instead\n"
     ]
    }
   ],
   "source": [
    "model = Sequential()\n",
    "\n",
    "#Deep model with less number of layers, lesser max-pools and small dense layers\n",
    "#1st convolution layer\n",
    "model.add(Conv2D(32, (3, 3), activation='relu', input_shape=(48,48,1)))\n",
    "model.add(BatchNormalization())\n",
    "model.add(Dropout(0.5))\n",
    "\n",
    "\n",
    "model.add(Conv2D(64, (3, 3), activation='relu'))\n",
    "model.add(BatchNormalization())\n",
    "model.add(Conv2D(64, (3, 3), activation='relu'))\n",
    "model.add(BatchNormalization())\n",
    "model.add(Dropout(0.5))\n",
    "\n",
    "model.add(Conv2D(64, (3, 3), activation='relu'))\n",
    "model.add(BatchNormalization())\n",
    "model.add(Conv2D(64, (3, 3), activation='relu'))\n",
    "model.add(MaxPooling2D(pool_size=(2,2), strides=(2, 2)))\n",
    "model.add(BatchNormalization())\n",
    "model.add(Dropout(0.5))\n",
    "\n",
    "\n",
    "model.add(Conv2D(64, (3, 3), activation='relu'))\n",
    "model.add(BatchNormalization())\n",
    "model.add(Conv2D(64, (3, 3), activation='relu'))\n",
    "model.add(MaxPooling2D(pool_size=(2,2), strides=(2, 2)))\n",
    "model.add(BatchNormalization())\n",
    "model.add(Dropout(0.5))\n",
    "\n",
    "\n",
    "model.add(Flatten())\n",
    " \n",
    "#fully connected layers\n",
    "model.add(Dense(512, activation='relu'))\n",
    "model.add(Dropout(0.75))\n",
    "model.add(Dense(128, activation='relu'))\n",
    "model.add(Dropout(0.5))\n",
    "model.add(Dense(num_classes, activation='softmax'))"
   ]
  },
  {
   "cell_type": "code",
   "execution_count": 11,
   "metadata": {},
   "outputs": [
    {
     "name": "stdout",
     "output_type": "stream",
     "text": [
      "WARNING:tensorflow:From C:\\Users\\Mayank  Bhandari\\Anaconda3\\lib\\site-packages\\keras\\backend\\tensorflow_backend.py:2550: calling reduce_sum (from tensorflow.python.ops.math_ops) with keep_dims is deprecated and will be removed in a future version.\n",
      "Instructions for updating:\n",
      "keep_dims is deprecated, use keepdims instead\n",
      "WARNING:tensorflow:From C:\\Users\\Mayank  Bhandari\\Anaconda3\\lib\\site-packages\\keras\\backend\\tensorflow_backend.py:1123: calling reduce_mean (from tensorflow.python.ops.math_ops) with keep_dims is deprecated and will be removed in a future version.\n",
      "Instructions for updating:\n",
      "keep_dims is deprecated, use keepdims instead\n"
     ]
    }
   ],
   "source": [
    "model.compile(loss=keras.losses.categorical_crossentropy, \n",
    "              optimizer=keras.optimizers.Adam(),\n",
    "              metrics=['accuracy'])"
   ]
  },
  {
   "cell_type": "code",
   "execution_count": 12,
   "metadata": {},
   "outputs": [
    {
     "name": "stdout",
     "output_type": "stream",
     "text": [
      "_________________________________________________________________\n",
      "Layer (type)                 Output Shape              Param #   \n",
      "=================================================================\n",
      "conv2d_1 (Conv2D)            (None, 46, 46, 32)        320       \n",
      "_________________________________________________________________\n",
      "batch_normalization_1 (Batch (None, 46, 46, 32)        128       \n",
      "_________________________________________________________________\n",
      "dropout_1 (Dropout)          (None, 46, 46, 32)        0         \n",
      "_________________________________________________________________\n",
      "conv2d_2 (Conv2D)            (None, 44, 44, 64)        18496     \n",
      "_________________________________________________________________\n",
      "batch_normalization_2 (Batch (None, 44, 44, 64)        256       \n",
      "_________________________________________________________________\n",
      "conv2d_3 (Conv2D)            (None, 42, 42, 64)        36928     \n",
      "_________________________________________________________________\n",
      "batch_normalization_3 (Batch (None, 42, 42, 64)        256       \n",
      "_________________________________________________________________\n",
      "dropout_2 (Dropout)          (None, 42, 42, 64)        0         \n",
      "_________________________________________________________________\n",
      "conv2d_4 (Conv2D)            (None, 40, 40, 64)        36928     \n",
      "_________________________________________________________________\n",
      "batch_normalization_4 (Batch (None, 40, 40, 64)        256       \n",
      "_________________________________________________________________\n",
      "conv2d_5 (Conv2D)            (None, 38, 38, 64)        36928     \n",
      "_________________________________________________________________\n",
      "max_pooling2d_1 (MaxPooling2 (None, 19, 19, 64)        0         \n",
      "_________________________________________________________________\n",
      "batch_normalization_5 (Batch (None, 19, 19, 64)        256       \n",
      "_________________________________________________________________\n",
      "dropout_3 (Dropout)          (None, 19, 19, 64)        0         \n",
      "_________________________________________________________________\n",
      "conv2d_6 (Conv2D)            (None, 17, 17, 64)        36928     \n",
      "_________________________________________________________________\n",
      "batch_normalization_6 (Batch (None, 17, 17, 64)        256       \n",
      "_________________________________________________________________\n",
      "conv2d_7 (Conv2D)            (None, 15, 15, 64)        36928     \n",
      "_________________________________________________________________\n",
      "max_pooling2d_2 (MaxPooling2 (None, 7, 7, 64)          0         \n",
      "_________________________________________________________________\n",
      "batch_normalization_7 (Batch (None, 7, 7, 64)          256       \n",
      "_________________________________________________________________\n",
      "dropout_4 (Dropout)          (None, 7, 7, 64)          0         \n",
      "_________________________________________________________________\n",
      "flatten_1 (Flatten)          (None, 3136)              0         \n",
      "_________________________________________________________________\n",
      "dense_1 (Dense)              (None, 512)               1606144   \n",
      "_________________________________________________________________\n",
      "dropout_5 (Dropout)          (None, 512)               0         \n",
      "_________________________________________________________________\n",
      "dense_2 (Dense)              (None, 128)               65664     \n",
      "_________________________________________________________________\n",
      "dropout_6 (Dropout)          (None, 128)               0         \n",
      "_________________________________________________________________\n",
      "dense_3 (Dense)              (None, 7)                 903       \n",
      "=================================================================\n",
      "Total params: 1,877,831.0\n",
      "Trainable params: 1,876,999.0\n",
      "Non-trainable params: 832.0\n",
      "_________________________________________________________________\n"
     ]
    }
   ],
   "source": [
    "model.summary()"
   ]
  },
  {
   "cell_type": "code",
   "execution_count": 13,
   "metadata": {
    "collapsed": true
   },
   "outputs": [],
   "source": [
    "from keras.callbacks import ModelCheckpoint"
   ]
  },
  {
   "cell_type": "code",
   "execution_count": 14,
   "metadata": {
    "scrolled": false
   },
   "outputs": [
    {
     "name": "stdout",
     "output_type": "stream",
     "text": [
      "Train on 28709 samples, validate on 3589 samples\n",
      "Epoch 1/40\n",
      "28672/28709 [============================>.] - ETA: 0s - loss: 2.4645 - acc: 0.1985Epoch 00000: val_loss improved from inf to 1.82576, saving model to face_model.h5\n",
      "28709/28709 [==============================] - 99s - loss: 2.4642 - acc: 0.1985 - val_loss: 1.8258 - val_acc: 0.2494\n",
      "Epoch 2/40\n",
      "28672/28709 [============================>.] - ETA: 0s - loss: 1.8819 - acc: 0.2338Epoch 00001: val_loss improved from 1.82576 to 1.80205, saving model to face_model.h5\n",
      "28709/28709 [==============================] - 83s - loss: 1.8820 - acc: 0.2339 - val_loss: 1.8021 - val_acc: 0.2494\n",
      "Epoch 3/40\n",
      "28672/28709 [============================>.] - ETA: 0s - loss: 1.8255 - acc: 0.2477Epoch 00002: val_loss improved from 1.80205 to 1.79819, saving model to face_model.h5\n",
      "28709/28709 [==============================] - 83s - loss: 1.8253 - acc: 0.2477 - val_loss: 1.7982 - val_acc: 0.2494\n",
      "Epoch 4/40\n",
      "28672/28709 [============================>.] - ETA: 0s - loss: 1.7889 - acc: 0.2584Epoch 00003: val_loss improved from 1.79819 to 1.74474, saving model to face_model.h5\n",
      "28709/28709 [==============================] - 83s - loss: 1.7889 - acc: 0.2584 - val_loss: 1.7447 - val_acc: 0.2831\n",
      "Epoch 5/40\n",
      "28672/28709 [============================>.] - ETA: 0s - loss: 1.7434 - acc: 0.2849Epoch 00004: val_loss improved from 1.74474 to 1.68367, saving model to face_model.h5\n",
      "28709/28709 [==============================] - 71s - loss: 1.7432 - acc: 0.2851 - val_loss: 1.6837 - val_acc: 0.2948\n",
      "Epoch 6/40\n",
      "28672/28709 [============================>.] - ETA: 0s - loss: 1.6933 - acc: 0.3207Epoch 00005: val_loss improved from 1.68367 to 1.64311, saving model to face_model.h5\n",
      "28709/28709 [==============================] - 68s - loss: 1.6933 - acc: 0.3206 - val_loss: 1.6431 - val_acc: 0.3394\n",
      "Epoch 7/40\n",
      "28672/28709 [============================>.] - ETA: 0s - loss: 1.6430 - acc: 0.3443Epoch 00006: val_loss improved from 1.64311 to 1.56441, saving model to face_model.h5\n",
      "28709/28709 [==============================] - 69s - loss: 1.6432 - acc: 0.3441 - val_loss: 1.5644 - val_acc: 0.3826\n",
      "Epoch 8/40\n",
      "28672/28709 [============================>.] - ETA: 0s - loss: 1.6065 - acc: 0.3674Epoch 00007: val_loss improved from 1.56441 to 1.50344, saving model to face_model.h5\n",
      "28709/28709 [==============================] - 68s - loss: 1.6063 - acc: 0.3674 - val_loss: 1.5034 - val_acc: 0.4135\n",
      "Epoch 9/40\n",
      "28672/28709 [============================>.] - ETA: 0s - loss: 1.5726 - acc: 0.3807Epoch 00008: val_loss did not improve\n",
      "28709/28709 [==============================] - 68s - loss: 1.5726 - acc: 0.3806 - val_loss: 1.5461 - val_acc: 0.3934\n",
      "Epoch 10/40\n",
      "28672/28709 [============================>.] - ETA: 0s - loss: 1.5347 - acc: 0.4021Epoch 00009: val_loss improved from 1.50344 to 1.45521, saving model to face_model.h5\n",
      "28709/28709 [==============================] - 68s - loss: 1.5348 - acc: 0.4020 - val_loss: 1.4552 - val_acc: 0.4271\n",
      "Epoch 11/40\n",
      "28672/28709 [============================>.] - ETA: 0s - loss: 1.5063 - acc: 0.4128Epoch 00010: val_loss improved from 1.45521 to 1.44342, saving model to face_model.h5\n",
      "28709/28709 [==============================] - 68s - loss: 1.5064 - acc: 0.4127 - val_loss: 1.4434 - val_acc: 0.4374\n",
      "Epoch 12/40\n",
      "28672/28709 [============================>.] - ETA: 0s - loss: 1.4779 - acc: 0.4227Epoch 00011: val_loss improved from 1.44342 to 1.39308, saving model to face_model.h5\n",
      "28709/28709 [==============================] - 68s - loss: 1.4776 - acc: 0.4230 - val_loss: 1.3931 - val_acc: 0.4567\n",
      "Epoch 13/40\n",
      "28672/28709 [============================>.] - ETA: 0s - loss: 1.4546 - acc: 0.4347Epoch 00012: val_loss improved from 1.39308 to 1.36076, saving model to face_model.h5\n",
      "28709/28709 [==============================] - 68s - loss: 1.4545 - acc: 0.4346 - val_loss: 1.3608 - val_acc: 0.4695\n",
      "Epoch 14/40\n",
      "28672/28709 [============================>.] - ETA: 0s - loss: 1.4247 - acc: 0.4437Epoch 00013: val_loss did not improve\n",
      "28709/28709 [==============================] - 68s - loss: 1.4249 - acc: 0.4437 - val_loss: 1.3714 - val_acc: 0.4678\n",
      "Epoch 15/40\n",
      "28672/28709 [============================>.] - ETA: 0s - loss: 1.4141 - acc: 0.4522Epoch 00014: val_loss improved from 1.36076 to 1.35222, saving model to face_model.h5\n",
      "28709/28709 [==============================] - 68s - loss: 1.4141 - acc: 0.4522 - val_loss: 1.3522 - val_acc: 0.4661\n",
      "Epoch 16/40\n",
      "28672/28709 [============================>.] - ETA: 0s - loss: 1.3974 - acc: 0.4619Epoch 00015: val_loss improved from 1.35222 to 1.31668, saving model to face_model.h5\n",
      "28709/28709 [==============================] - 68s - loss: 1.3975 - acc: 0.4618 - val_loss: 1.3167 - val_acc: 0.4857\n",
      "Epoch 17/40\n",
      "28672/28709 [============================>.] - ETA: 0s - loss: 1.3747 - acc: 0.4675Epoch 00016: val_loss improved from 1.31668 to 1.28412, saving model to face_model.h5\n",
      "28709/28709 [==============================] - 68s - loss: 1.3747 - acc: 0.4674 - val_loss: 1.2841 - val_acc: 0.4968\n",
      "Epoch 18/40\n",
      "28672/28709 [============================>.] - ETA: 0s - loss: 1.3565 - acc: 0.4761Epoch 00017: val_loss improved from 1.28412 to 1.27665, saving model to face_model.h5\n",
      "28709/28709 [==============================] - 68s - loss: 1.3566 - acc: 0.4760 - val_loss: 1.2767 - val_acc: 0.5010\n",
      "Epoch 19/40\n",
      "28672/28709 [============================>.] - ETA: 0s - loss: 1.3396 - acc: 0.4826Epoch 00018: val_loss did not improve\n",
      "28709/28709 [==============================] - 68s - loss: 1.3398 - acc: 0.4826 - val_loss: 1.2839 - val_acc: 0.5068\n",
      "Epoch 20/40\n",
      "28672/28709 [============================>.] - ETA: 0s - loss: 1.3248 - acc: 0.4893Epoch 00019: val_loss improved from 1.27665 to 1.24988, saving model to face_model.h5\n",
      "28709/28709 [==============================] - 68s - loss: 1.3251 - acc: 0.4893 - val_loss: 1.2499 - val_acc: 0.5077\n",
      "Epoch 21/40\n",
      "28672/28709 [============================>.] - ETA: 0s - loss: 1.3175 - acc: 0.4904Epoch 00020: val_loss did not improve\n",
      "28709/28709 [==============================] - 68s - loss: 1.3174 - acc: 0.4905 - val_loss: 1.2613 - val_acc: 0.5052\n",
      "Epoch 22/40\n",
      "28672/28709 [============================>.] - ETA: 0s - loss: 1.2998 - acc: 0.4976Epoch 00021: val_loss improved from 1.24988 to 1.24707, saving model to face_model.h5\n",
      "28709/28709 [==============================] - 68s - loss: 1.2996 - acc: 0.4975 - val_loss: 1.2471 - val_acc: 0.5235\n",
      "Epoch 23/40\n",
      "28672/28709 [============================>.] - ETA: 0s - loss: 1.2932 - acc: 0.5018Epoch 00022: val_loss improved from 1.24707 to 1.23189, saving model to face_model.h5\n",
      "28709/28709 [==============================] - 68s - loss: 1.2933 - acc: 0.5017 - val_loss: 1.2319 - val_acc: 0.5269\n",
      "Epoch 24/40\n",
      "28672/28709 [============================>.] - ETA: 0s - loss: 1.2790 - acc: 0.5130Epoch 00023: val_loss improved from 1.23189 to 1.21215, saving model to face_model.h5\n",
      "28709/28709 [==============================] - 68s - loss: 1.2794 - acc: 0.5129 - val_loss: 1.2121 - val_acc: 0.5283\n",
      "Epoch 25/40\n",
      "28672/28709 [============================>.] - ETA: 0s - loss: 1.2651 - acc: 0.5144Epoch 00024: val_loss did not improve\n",
      "28709/28709 [==============================] - 68s - loss: 1.2653 - acc: 0.5143 - val_loss: 1.2260 - val_acc: 0.5222\n",
      "Epoch 26/40\n",
      "28672/28709 [============================>.] - ETA: 0s - loss: 1.2569 - acc: 0.5196Epoch 00025: val_loss did not improve\n",
      "28709/28709 [==============================] - 68s - loss: 1.2569 - acc: 0.5195 - val_loss: 1.2238 - val_acc: 0.5350\n",
      "Epoch 27/40\n",
      "28672/28709 [============================>.] - ETA: 0s - loss: 1.2423 - acc: 0.5260Epoch 00026: val_loss improved from 1.21215 to 1.19510, saving model to face_model.h5\n",
      "28709/28709 [==============================] - 68s - loss: 1.2420 - acc: 0.5261 - val_loss: 1.1951 - val_acc: 0.5511\n",
      "Epoch 28/40\n",
      "28672/28709 [============================>.] - ETA: 0s - loss: 1.2232 - acc: 0.5367Epoch 00027: val_loss did not improve\n",
      "28709/28709 [==============================] - 68s - loss: 1.2234 - acc: 0.5366 - val_loss: 1.2129 - val_acc: 0.5286\n",
      "Epoch 29/40\n",
      "28672/28709 [============================>.] - ETA: 0s - loss: 1.2214 - acc: 0.5364Epoch 00028: val_loss improved from 1.19510 to 1.16092, saving model to face_model.h5\n"
     ]
    },
    {
     "name": "stdout",
     "output_type": "stream",
     "text": [
      "28709/28709 [==============================] - 68s - loss: 1.2217 - acc: 0.5365 - val_loss: 1.1609 - val_acc: 0.5614\n",
      "Epoch 30/40\n",
      "28672/28709 [============================>.] - ETA: 0s - loss: 1.2118 - acc: 0.5411Epoch 00029: val_loss improved from 1.16092 to 1.15336, saving model to face_model.h5\n",
      "28709/28709 [==============================] - 68s - loss: 1.2119 - acc: 0.5411 - val_loss: 1.1534 - val_acc: 0.5701\n",
      "Epoch 31/40\n",
      "28672/28709 [============================>.] - ETA: 0s - loss: 1.1927 - acc: 0.5477Epoch 00030: val_loss did not improve\n",
      "28709/28709 [==============================] - 68s - loss: 1.1929 - acc: 0.5476 - val_loss: 1.1765 - val_acc: 0.5508\n",
      "Epoch 32/40\n",
      "28672/28709 [============================>.] - ETA: 0s - loss: 1.1919 - acc: 0.5455Epoch 00031: val_loss did not improve\n",
      "28709/28709 [==============================] - 74s - loss: 1.1920 - acc: 0.5455 - val_loss: 1.1631 - val_acc: 0.5600\n",
      "Epoch 33/40\n",
      "28672/28709 [============================>.] - ETA: 0s - loss: 1.1860 - acc: 0.5522Epoch 00032: val_loss did not improve\n",
      "28709/28709 [==============================] - 83s - loss: 1.1857 - acc: 0.5523 - val_loss: 1.1792 - val_acc: 0.5542\n",
      "Epoch 34/40\n",
      "28672/28709 [============================>.] - ETA: 0s - loss: 1.1672 - acc: 0.5584Epoch 00033: val_loss did not improve\n",
      "28709/28709 [==============================] - 83s - loss: 1.1670 - acc: 0.5585 - val_loss: 1.1644 - val_acc: 0.5584\n",
      "Epoch 35/40\n",
      "28672/28709 [============================>.] - ETA: 0s - loss: 1.1558 - acc: 0.5610Epoch 00034: val_loss improved from 1.15336 to 1.14065, saving model to face_model.h5\n",
      "28709/28709 [==============================] - 83s - loss: 1.1553 - acc: 0.5614 - val_loss: 1.1407 - val_acc: 0.5706\n",
      "Epoch 36/40\n",
      "28672/28709 [============================>.] - ETA: 0s - loss: 1.1514 - acc: 0.5632Epoch 00035: val_loss improved from 1.14065 to 1.11200, saving model to face_model.h5\n",
      "28709/28709 [==============================] - 84s - loss: 1.1513 - acc: 0.5633 - val_loss: 1.1120 - val_acc: 0.5787\n",
      "Epoch 37/40\n",
      "28672/28709 [============================>.] - ETA: 0s - loss: 1.1442 - acc: 0.5668Epoch 00036: val_loss did not improve\n",
      "28709/28709 [==============================] - 83s - loss: 1.1441 - acc: 0.5666 - val_loss: 1.1465 - val_acc: 0.5717\n",
      "Epoch 38/40\n",
      "28672/28709 [============================>.] - ETA: 0s - loss: 1.1381 - acc: 0.5720Epoch 00037: val_loss did not improve\n",
      "28709/28709 [==============================] - 83s - loss: 1.1383 - acc: 0.5721 - val_loss: 1.1306 - val_acc: 0.5704\n",
      "Epoch 39/40\n",
      "28672/28709 [============================>.] - ETA: 0s - loss: 1.1207 - acc: 0.5766Epoch 00038: val_loss improved from 1.11200 to 1.10967, saving model to face_model.h5\n",
      "28709/28709 [==============================] - 84s - loss: 1.1209 - acc: 0.5766 - val_loss: 1.1097 - val_acc: 0.5887\n",
      "Epoch 40/40\n",
      "28672/28709 [============================>.] - ETA: 0s - loss: 1.1189 - acc: 0.5777Epoch 00039: val_loss did not improve\n",
      "28709/28709 [==============================] - 83s - loss: 1.1185 - acc: 0.5779 - val_loss: 1.1103 - val_acc: 0.5843\n"
     ]
    }
   ],
   "source": [
    "checkpointer = ModelCheckpoint(filepath='face_model.h5', verbose=1, save_best_only=True)\n",
    "\n",
    "train_model = model.fit(X_train, y_train,\n",
    "                    batch_size=batch_size,epochs=epochs,\n",
    "                    verbose=1,\n",
    "                    validation_data=(X_test, y_test),\n",
    "                    callbacks=[checkpointer])"
   ]
  },
  {
   "cell_type": "code",
   "execution_count": 15,
   "metadata": {
    "collapsed": true
   },
   "outputs": [],
   "source": [
    "model_json = model.to_json()\n",
    "with open(\"face_model.json\", \"w\") as json_file:\n",
    "    json_file.write(model_json)"
   ]
  },
  {
   "cell_type": "code",
   "execution_count": 16,
   "metadata": {},
   "outputs": [
    {
     "name": "stdout",
     "output_type": "stream",
     "text": [
      "Train loss: 0.974687343087\n",
      "Train accuracy: 63.1996934763\n",
      "Test loss: 1.11034730039\n",
      "Test accuracy: 58.4285316248\n"
     ]
    }
   ],
   "source": [
    "train_score = model.evaluate(X_train, y_train, verbose=0)\n",
    "print('Train loss:', train_score[0])\n",
    "print('Train accuracy:', 100*train_score[1])\n",
    " \n",
    "test_score = model.evaluate(X_test, y_test, verbose=0)\n",
    "print('Test loss:', test_score[0])\n",
    "print('Test accuracy:', 100*test_score[1])"
   ]
  },
  {
   "cell_type": "code",
   "execution_count": 35,
   "metadata": {},
   "outputs": [
    {
     "data": {
      "text/plain": [
       "<matplotlib.figure.Figure at 0x14efa448828>"
      ]
     },
     "metadata": {},
     "output_type": "display_data"
    },
    {
     "data": {
      "image/png": "[encoded data removed]",
      "text/plain": [
       "<matplotlib.figure.Figure at 0x14efa2349e8>"
      ]
     },
     "metadata": {},
     "output_type": "display_data"
    }
   ],
   "source": [
    "from sklearn.metrics import confusion_matrix\n",
    "y_pred = model.predict(X_test, verbose=0)\n",
    "ypredtemp = np.array([np.argmax(ypred[i]) for i in range(ypred.shape[0])])\n",
    "ytemp = np.array([np.argmax(y_test[i]) for i in range(ypred.shape[0])])\n",
    "\n",
    "cnf_matrix = confusion_matrix(ytemp, ypredtemp)\n",
    "np.set_printoptions(precision=2)\n",
    "class_names = [\"Angry\", \"Disgust\", \"Fear\", \"Happy\", \"Sad\", \"Surprise\", \"Neutral\"]\n",
    "\n",
    "plt.figure()\n",
    "plt.matshow(cnf_matrix)\n",
    "plt.title('Confusion matrix')\n",
    "plt.colorbar()\n",
    "plt.ylabel('True label')\n",
    "plt.xlabel('Predicted label')\n",
    "plt.show()"
   ]
  },
  {
   "cell_type": "code",
   "execution_count": null,
   "metadata": {
    "collapsed": true
   },
   "outputs": [],
   "source": []
  }
 ],
 "metadata": {
  "kernelspec": {
   "display_name": "Python 3",
   "language": "python",
   "name": "python3"
  },
  "language_info": {
   "codemirror_mode": {
    "name": "ipython",
    "version": 3
   },
   "file_extension": ".py",
   "mimetype": "text/x-python",
   "name": "python",
   "nbconvert_exporter": "python",
   "pygments_lexer": "ipython3",
   "version": "3.6.7"
  }
 },
 "nbformat": 4,
 "nbformat_minor": 2
}
