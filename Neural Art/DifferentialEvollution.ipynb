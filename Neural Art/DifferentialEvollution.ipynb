{
 "cells": [
  {
   "cell_type": "code",
   "execution_count": 1,
   "metadata": {
    "collapsed": true
   },
   "outputs": [],
   "source": [
    "import numpy as np\n",
    "import random\n",
    "from matplotlib import pyplot as plt\n",
    "%matplotlib inline"
   ]
  },
  {
   "cell_type": "code",
   "execution_count": 42,
   "metadata": {},
   "outputs": [
    {
     "name": "stdout",
     "output_type": "stream",
     "text": [
      "[ 1.94855865  1.82040002  1.59939295  0.40033774  1.85900324  1.82208465\n",
      "  0.3317298   0.56492306  0.95656101  1.97978137  0.71744064  0.94997683\n",
      "  1.32720149  1.46292949  1.83314     1.41783171  1.85774843  1.01485469\n",
      "  1.63372576  1.535826    1.85377092  1.98521843  1.72018716  0.8100604\n",
      "  0.7593302   0.95878083  0.55962042  0.01103579  1.40848417  0.0368379\n",
      "  1.04839963  0.75508622  1.60054268  0.05081234  1.96218766  1.34191765\n",
      "  0.85900826  1.79092357  0.03984112  1.45283008  1.44548329  0.21511871\n",
      "  0.13501587  1.55866236  1.88527843  1.48155128  0.14882172  1.87805851\n",
      "  1.52101705  1.75704867  1.64574785  1.31909247  1.99340039  0.3551235\n",
      "  1.1778326   1.96309993  0.49146139  1.17462776  1.00134545  1.49009882\n",
      "  0.41628091  1.38932029  0.08847019  1.58308782  0.78369663  0.34220362\n",
      "  0.07653209  0.72448414  0.9928777   0.88274199  0.39873737  1.26126808\n",
      "  1.35086293  1.22806546  1.35628182  1.67407637  0.63361383  0.53853891\n",
      "  0.08801088  1.63950876  0.4695146   0.04763766  1.23722523  0.93051734\n",
      "  1.46956668  0.3934676   1.18113452  1.85941449  1.24576432  0.37314799\n",
      "  0.10206411  0.0364198   0.03221966  0.13316743  1.87516655  0.16791406\n",
      "  0.10602662  1.64161382  1.30394024  0.58921603]\n"
     ]
    }
   ],
   "source": [
    "N_POP = 200\n",
    "N_GEN = 100\n",
    "\n",
    "N_DIM = 100\n",
    "\n",
    "F = 0.42\n",
    "CR = 0.5\n",
    "\n",
    "random_shift = 2*np.random.random((N_DIM))\n",
    "print random_shift"
   ]
  },
  {
   "cell_type": "code",
   "execution_count": 43,
   "metadata": {
    "collapsed": true
   },
   "outputs": [],
   "source": [
    "def loss(x):\n",
    "    n_dim = x.shape[0]\n",
    "    \n",
    "    # Sphere\n",
    "    y = np.sum((random_shift + x)**2)\n",
    "    return y\n",
    "\n",
    "\n",
    "def generate_random_point(n_dim=N_DIM, lim=20):\n",
    "    pt = (2*np.random.random((n_dim,))-1)*lim\n",
    "    return pt\n",
    "\n",
    "pop = [generate_random_point() for ix in range(N_POP)]\n",
    "temp = []\n",
    "losses = []"
   ]
  },
  {
   "cell_type": "code",
   "execution_count": 44,
   "metadata": {
    "scrolled": false
   },
   "outputs": [
    {
     "name": "stdout",
     "output_type": "stream",
     "text": [
      "Best loss: 10411.0095203\n",
      "Best loss: 8236.38826678\n",
      "Best loss: 7907.82560285\n",
      "Best loss: 7907.82560285\n",
      "Best loss: 7082.35804579\n",
      "Best loss: 6502.38802645\n",
      "Best loss: 5322.53113558\n",
      "Best loss: 5189.28919194\n",
      "Best loss: 4087.41278901\n",
      "Best loss: 3700.95764168\n",
      "Best loss: 3456.50181569\n",
      "Best loss: 2976.65606852\n",
      "Best loss: 2846.6682988\n",
      "Best loss: 2846.6682988\n",
      "Best loss: 2667.26358792\n",
      "Best loss: 2465.36270932\n",
      "Best loss: 2242.87497373\n",
      "Best loss: 2081.43491375\n",
      "Best loss: 1956.69369202\n",
      "Best loss: 1792.16190731\n",
      "Best loss: 1702.29482382\n",
      "Best loss: 1628.3142655\n",
      "Best loss: 1538.01293799\n",
      "Best loss: 1433.06610783\n",
      "Best loss: 1402.12125247\n",
      "Best loss: 1332.4844988\n",
      "Best loss: 1289.21512956\n",
      "Best loss: 1231.35591345\n",
      "Best loss: 1184.7478005\n",
      "Best loss: 1155.41288928\n",
      "Best loss: 1105.50181581\n",
      "Best loss: 1073.36071624\n",
      "Best loss: 1044.70183274\n",
      "Best loss: 1013.67881021\n",
      "Best loss: 996.981380453\n",
      "Best loss: 962.927762295\n",
      "Best loss: 948.848966813\n",
      "Best loss: 928.235628131\n",
      "Best loss: 911.697151082\n",
      "Best loss: 899.509222877\n",
      "Best loss: 885.823235302\n",
      "Best loss: 867.74215916\n",
      "Best loss: 854.620207921\n",
      "Best loss: 832.053159459\n",
      "Best loss: 821.266880178\n",
      "Best loss: 809.556115709\n",
      "Best loss: 796.664923798\n",
      "Best loss: 786.351132664\n",
      "Best loss: 777.570981176\n",
      "Best loss: 772.360455101\n",
      "Best loss: 768.077617738\n",
      "Best loss: 757.531716331\n",
      "Best loss: 754.021951332\n",
      "Best loss: 746.869178748\n",
      "Best loss: 741.956026439\n",
      "Best loss: 736.898258579\n",
      "Best loss: 730.773627604\n",
      "Best loss: 726.895762105\n",
      "Best loss: 722.426878889\n",
      "Best loss: 717.487523397\n",
      "Best loss: 714.770108434\n",
      "Best loss: 711.672284598\n",
      "Best loss: 709.291446598\n",
      "Best loss: 707.030661433\n",
      "Best loss: 703.364438064\n",
      "Best loss: 698.197915007\n",
      "Best loss: 696.468943687\n",
      "Best loss: 694.528355003\n",
      "Best loss: 691.213620891\n",
      "Best loss: 689.14996155\n",
      "Best loss: 687.304900827\n",
      "Best loss: 684.452670757\n",
      "Best loss: 682.684090714\n",
      "Best loss: 680.579270765\n",
      "Best loss: 678.64877835\n",
      "Best loss: 677.176768493\n",
      "Best loss: 676.329801556\n",
      "Best loss: 675.604477497\n",
      "Best loss: 675.140826912\n",
      "Best loss: 674.747702786\n",
      "Best loss: 674.045919748\n",
      "Best loss: 673.53210766\n",
      "Best loss: 673.147028131\n",
      "Best loss: 672.525139115\n",
      "Best loss: 672.031698022\n",
      "Best loss: 671.596055273\n",
      "Best loss: 671.218476467\n",
      "Best loss: 670.761566149\n",
      "Best loss: 670.25588423\n",
      "Best loss: 670.058613577\n",
      "Best loss: 669.488278552\n",
      "Best loss: 669.018064193\n",
      "Best loss: 668.776209196\n",
      "Best loss: 667.913624954\n",
      "Best loss: 667.283327159\n",
      "Best loss: 667.033678432\n",
      "Best loss: 666.502190243\n",
      "Best loss: 665.815000617\n",
      "Best loss: 664.879492988\n",
      "Best loss: 663.692289611\n"
     ]
    }
   ],
   "source": [
    "for gen in range(N_GEN):\n",
    "    ord_pop = sorted(pop, key=lambda x: loss(x))\n",
    "    \n",
    "    best = ord_pop[0]\n",
    "    print \"Best loss:\", loss(best)# , best\n",
    "    losses.append(loss(best))\n",
    "    \n",
    "    #plt.figure(gen)\n",
    "    #for ix in ord_pop:\n",
    "    #    plt.scatter(ix[0], ix[1])\n",
    "    #plt.scatter(best[0], best[1], color='green')\n",
    "    #plt.scatter(-random_shift[0], -random_shift[1], color='red')\n",
    "    \n",
    "    for ix in range(N_POP):\n",
    "        x = pop[ix]\n",
    "        a, b, c = random.sample(pop, 3)\n",
    "        while (list(a) == list(x)) or (list(b) == list(x)) or (list(c) == list(x)):\n",
    "            a, b, c = random.sample(pop, 3)\n",
    "        \n",
    "        t = best + F*(x-c)\n",
    "        # print t\n",
    "        \n",
    "        R = int(np.random.random() * N_DIM)\n",
    "        y = np.copy(x)\n",
    "        \n",
    "        for j in range(N_DIM):\n",
    "            if (np.random.random() < CR) or (j==R):\n",
    "                y[j] = t[j]\n",
    "            else:\n",
    "                y[j] = x[j]\n",
    "        \n",
    "        if loss(y) < loss(x):\n",
    "            pop[ix] = y\n",
    "        else:\n",
    "            pass\n",
    "plt.show()"
   ]
  },
  {
   "cell_type": "code",
   "execution_count": 45,
   "metadata": {},
   "outputs": [
    {
     "data": {
      "image/png": "[encoded data removed]",
      "text/plain": [
       "<matplotlib.figure.Figure at 0x7f03c38cf390>"
      ]
     },
     "metadata": {},
     "output_type": "display_data"
    }
   ],
   "source": [
    "plt.plot(losses)\n",
    "plt.show()"
   ]
  }
 ],
 "metadata": {
  "kernelspec": {
   "display_name": "Python 3",
   "language": "python",
   "name": "python3"
  },
  "language_info": {
   "codemirror_mode": {
    "name": "ipython",
    "version": 3
   },
   "file_extension": ".py",
   "mimetype": "text/x-python",
   "name": "python",
   "nbconvert_exporter": "python",
   "pygments_lexer": "ipython3",
   "version": "3.6.7"
  }
 },
 "nbformat": 4,
 "nbformat_minor": 2
}
