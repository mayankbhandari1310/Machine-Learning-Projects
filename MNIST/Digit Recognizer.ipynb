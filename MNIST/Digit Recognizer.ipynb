{
 "cells": [
  {
   "cell_type": "code",
   "execution_count": 1,
   "metadata": {
    "collapsed": true
   },
   "outputs": [],
   "source": [
    "import numpy as np\n",
    "import matplotlib.pyplot as plt\n",
    "import pandas as pd\n",
    "%matplotlib inline"
   ]
  },
  {
   "cell_type": "code",
   "execution_count": 2,
   "metadata": {},
   "outputs": [
    {
     "data": {
      "text/html": [
       "<div>\n",
       "<style>\n",
       "    .dataframe thead tr:only-child th {\n",
       "        text-align: right;\n",
       "    }\n",
       "\n",
       "    .dataframe thead th {\n",
       "        text-align: left;\n",
       "    }\n",
       "\n",
       "    .dataframe tbody tr th {\n",
       "        vertical-align: top;\n",
       "    }\n",
       "</style>\n",
       "<table border=\"1\" class=\"dataframe\">\n",
       "  <thead>\n",
       "    <tr style=\"text-align: right;\">\n",
       "      <th></th>\n",
       "      <th>label</th>\n",
       "      <th>pixel0</th>\n",
       "      <th>pixel1</th>\n",
       "      <th>pixel2</th>\n",
       "      <th>pixel3</th>\n",
       "      <th>pixel4</th>\n",
       "      <th>pixel5</th>\n",
       "      <th>pixel6</th>\n",
       "      <th>pixel7</th>\n",
       "      <th>pixel8</th>\n",
       "      <th>...</th>\n",
       "      <th>pixel774</th>\n",
       "      <th>pixel775</th>\n",
       "      <th>pixel776</th>\n",
       "      <th>pixel777</th>\n",
       "      <th>pixel778</th>\n",
       "      <th>pixel779</th>\n",
       "      <th>pixel780</th>\n",
       "      <th>pixel781</th>\n",
       "      <th>pixel782</th>\n",
       "      <th>pixel783</th>\n",
       "    </tr>\n",
       "  </thead>\n",
       "  <tbody>\n",
       "    <tr>\n",
       "      <th>0</th>\n",
       "      <td>1</td>\n",
       "      <td>0</td>\n",
       "      <td>0</td>\n",
       "      <td>0</td>\n",
       "      <td>0</td>\n",
       "      <td>0</td>\n",
       "      <td>0</td>\n",
       "      <td>0</td>\n",
       "      <td>0</td>\n",
       "      <td>0</td>\n",
       "      <td>...</td>\n",
       "      <td>0</td>\n",
       "      <td>0</td>\n",
       "      <td>0</td>\n",
       "      <td>0</td>\n",
       "      <td>0</td>\n",
       "      <td>0</td>\n",
       "      <td>0</td>\n",
       "      <td>0</td>\n",
       "      <td>0</td>\n",
       "      <td>0</td>\n",
       "    </tr>\n",
       "    <tr>\n",
       "      <th>1</th>\n",
       "      <td>0</td>\n",
       "      <td>0</td>\n",
       "      <td>0</td>\n",
       "      <td>0</td>\n",
       "      <td>0</td>\n",
       "      <td>0</td>\n",
       "      <td>0</td>\n",
       "      <td>0</td>\n",
       "      <td>0</td>\n",
       "      <td>0</td>\n",
       "      <td>...</td>\n",
       "      <td>0</td>\n",
       "      <td>0</td>\n",
       "      <td>0</td>\n",
       "      <td>0</td>\n",
       "      <td>0</td>\n",
       "      <td>0</td>\n",
       "      <td>0</td>\n",
       "      <td>0</td>\n",
       "      <td>0</td>\n",
       "      <td>0</td>\n",
       "    </tr>\n",
       "    <tr>\n",
       "      <th>2</th>\n",
       "      <td>1</td>\n",
       "      <td>0</td>\n",
       "      <td>0</td>\n",
       "      <td>0</td>\n",
       "      <td>0</td>\n",
       "      <td>0</td>\n",
       "      <td>0</td>\n",
       "      <td>0</td>\n",
       "      <td>0</td>\n",
       "      <td>0</td>\n",
       "      <td>...</td>\n",
       "      <td>0</td>\n",
       "      <td>0</td>\n",
       "      <td>0</td>\n",
       "      <td>0</td>\n",
       "      <td>0</td>\n",
       "      <td>0</td>\n",
       "      <td>0</td>\n",
       "      <td>0</td>\n",
       "      <td>0</td>\n",
       "      <td>0</td>\n",
       "    </tr>\n",
       "    <tr>\n",
       "      <th>3</th>\n",
       "      <td>4</td>\n",
       "      <td>0</td>\n",
       "      <td>0</td>\n",
       "      <td>0</td>\n",
       "      <td>0</td>\n",
       "      <td>0</td>\n",
       "      <td>0</td>\n",
       "      <td>0</td>\n",
       "      <td>0</td>\n",
       "      <td>0</td>\n",
       "      <td>...</td>\n",
       "      <td>0</td>\n",
       "      <td>0</td>\n",
       "      <td>0</td>\n",
       "      <td>0</td>\n",
       "      <td>0</td>\n",
       "      <td>0</td>\n",
       "      <td>0</td>\n",
       "      <td>0</td>\n",
       "      <td>0</td>\n",
       "      <td>0</td>\n",
       "    </tr>\n",
       "    <tr>\n",
       "      <th>4</th>\n",
       "      <td>0</td>\n",
       "      <td>0</td>\n",
       "      <td>0</td>\n",
       "      <td>0</td>\n",
       "      <td>0</td>\n",
       "      <td>0</td>\n",
       "      <td>0</td>\n",
       "      <td>0</td>\n",
       "      <td>0</td>\n",
       "      <td>0</td>\n",
       "      <td>...</td>\n",
       "      <td>0</td>\n",
       "      <td>0</td>\n",
       "      <td>0</td>\n",
       "      <td>0</td>\n",
       "      <td>0</td>\n",
       "      <td>0</td>\n",
       "      <td>0</td>\n",
       "      <td>0</td>\n",
       "      <td>0</td>\n",
       "      <td>0</td>\n",
       "    </tr>\n",
       "  </tbody>\n",
       "</table>\n",
       "<p>5 rows × 785 columns</p>\n",
       "</div>"
      ],
      "text/plain": [
       "   label  pixel0  pixel1  pixel2  pixel3  pixel4  pixel5  pixel6  pixel7  \\\n",
       "0      1       0       0       0       0       0       0       0       0   \n",
       "1      0       0       0       0       0       0       0       0       0   \n",
       "2      1       0       0       0       0       0       0       0       0   \n",
       "3      4       0       0       0       0       0       0       0       0   \n",
       "4      0       0       0       0       0       0       0       0       0   \n",
       "\n",
       "   pixel8    ...     pixel774  pixel775  pixel776  pixel777  pixel778  \\\n",
       "0       0    ...            0         0         0         0         0   \n",
       "1       0    ...            0         0         0         0         0   \n",
       "2       0    ...            0         0         0         0         0   \n",
       "3       0    ...            0         0         0         0         0   \n",
       "4       0    ...            0         0         0         0         0   \n",
       "\n",
       "   pixel779  pixel780  pixel781  pixel782  pixel783  \n",
       "0         0         0         0         0         0  \n",
       "1         0         0         0         0         0  \n",
       "2         0         0         0         0         0  \n",
       "3         0         0         0         0         0  \n",
       "4         0         0         0         0         0  \n",
       "\n",
       "[5 rows x 785 columns]"
      ]
     },
     "execution_count": 2,
     "metadata": {},
     "output_type": "execute_result"
    }
   ],
   "source": [
    "#Reading the data from train.csv and test.csv\n",
    "#train.csv will have an extra column for the label\n",
    "train_df = pd.read_csv(\"train.csv\")\n",
    "train_df.head()"
   ]
  },
  {
   "cell_type": "code",
   "execution_count": 3,
   "metadata": {},
   "outputs": [
    {
     "data": {
      "text/html": [
       "<div>\n",
       "<style>\n",
       "    .dataframe thead tr:only-child th {\n",
       "        text-align: right;\n",
       "    }\n",
       "\n",
       "    .dataframe thead th {\n",
       "        text-align: left;\n",
       "    }\n",
       "\n",
       "    .dataframe tbody tr th {\n",
       "        vertical-align: top;\n",
       "    }\n",
       "</style>\n",
       "<table border=\"1\" class=\"dataframe\">\n",
       "  <thead>\n",
       "    <tr style=\"text-align: right;\">\n",
       "      <th></th>\n",
       "      <th>pixel0</th>\n",
       "      <th>pixel1</th>\n",
       "      <th>pixel2</th>\n",
       "      <th>pixel3</th>\n",
       "      <th>pixel4</th>\n",
       "      <th>pixel5</th>\n",
       "      <th>pixel6</th>\n",
       "      <th>pixel7</th>\n",
       "      <th>pixel8</th>\n",
       "      <th>pixel9</th>\n",
       "      <th>...</th>\n",
       "      <th>pixel774</th>\n",
       "      <th>pixel775</th>\n",
       "      <th>pixel776</th>\n",
       "      <th>pixel777</th>\n",
       "      <th>pixel778</th>\n",
       "      <th>pixel779</th>\n",
       "      <th>pixel780</th>\n",
       "      <th>pixel781</th>\n",
       "      <th>pixel782</th>\n",
       "      <th>pixel783</th>\n",
       "    </tr>\n",
       "  </thead>\n",
       "  <tbody>\n",
       "    <tr>\n",
       "      <th>0</th>\n",
       "      <td>0</td>\n",
       "      <td>0</td>\n",
       "      <td>0</td>\n",
       "      <td>0</td>\n",
       "      <td>0</td>\n",
       "      <td>0</td>\n",
       "      <td>0</td>\n",
       "      <td>0</td>\n",
       "      <td>0</td>\n",
       "      <td>0</td>\n",
       "      <td>...</td>\n",
       "      <td>0</td>\n",
       "      <td>0</td>\n",
       "      <td>0</td>\n",
       "      <td>0</td>\n",
       "      <td>0</td>\n",
       "      <td>0</td>\n",
       "      <td>0</td>\n",
       "      <td>0</td>\n",
       "      <td>0</td>\n",
       "      <td>0</td>\n",
       "    </tr>\n",
       "    <tr>\n",
       "      <th>1</th>\n",
       "      <td>0</td>\n",
       "      <td>0</td>\n",
       "      <td>0</td>\n",
       "      <td>0</td>\n",
       "      <td>0</td>\n",
       "      <td>0</td>\n",
       "      <td>0</td>\n",
       "      <td>0</td>\n",
       "      <td>0</td>\n",
       "      <td>0</td>\n",
       "      <td>...</td>\n",
       "      <td>0</td>\n",
       "      <td>0</td>\n",
       "      <td>0</td>\n",
       "      <td>0</td>\n",
       "      <td>0</td>\n",
       "      <td>0</td>\n",
       "      <td>0</td>\n",
       "      <td>0</td>\n",
       "      <td>0</td>\n",
       "      <td>0</td>\n",
       "    </tr>\n",
       "    <tr>\n",
       "      <th>2</th>\n",
       "      <td>0</td>\n",
       "      <td>0</td>\n",
       "      <td>0</td>\n",
       "      <td>0</td>\n",
       "      <td>0</td>\n",
       "      <td>0</td>\n",
       "      <td>0</td>\n",
       "      <td>0</td>\n",
       "      <td>0</td>\n",
       "      <td>0</td>\n",
       "      <td>...</td>\n",
       "      <td>0</td>\n",
       "      <td>0</td>\n",
       "      <td>0</td>\n",
       "      <td>0</td>\n",
       "      <td>0</td>\n",
       "      <td>0</td>\n",
       "      <td>0</td>\n",
       "      <td>0</td>\n",
       "      <td>0</td>\n",
       "      <td>0</td>\n",
       "    </tr>\n",
       "    <tr>\n",
       "      <th>3</th>\n",
       "      <td>0</td>\n",
       "      <td>0</td>\n",
       "      <td>0</td>\n",
       "      <td>0</td>\n",
       "      <td>0</td>\n",
       "      <td>0</td>\n",
       "      <td>0</td>\n",
       "      <td>0</td>\n",
       "      <td>0</td>\n",
       "      <td>0</td>\n",
       "      <td>...</td>\n",
       "      <td>0</td>\n",
       "      <td>0</td>\n",
       "      <td>0</td>\n",
       "      <td>0</td>\n",
       "      <td>0</td>\n",
       "      <td>0</td>\n",
       "      <td>0</td>\n",
       "      <td>0</td>\n",
       "      <td>0</td>\n",
       "      <td>0</td>\n",
       "    </tr>\n",
       "    <tr>\n",
       "      <th>4</th>\n",
       "      <td>0</td>\n",
       "      <td>0</td>\n",
       "      <td>0</td>\n",
       "      <td>0</td>\n",
       "      <td>0</td>\n",
       "      <td>0</td>\n",
       "      <td>0</td>\n",
       "      <td>0</td>\n",
       "      <td>0</td>\n",
       "      <td>0</td>\n",
       "      <td>...</td>\n",
       "      <td>0</td>\n",
       "      <td>0</td>\n",
       "      <td>0</td>\n",
       "      <td>0</td>\n",
       "      <td>0</td>\n",
       "      <td>0</td>\n",
       "      <td>0</td>\n",
       "      <td>0</td>\n",
       "      <td>0</td>\n",
       "      <td>0</td>\n",
       "    </tr>\n",
       "  </tbody>\n",
       "</table>\n",
       "<p>5 rows × 784 columns</p>\n",
       "</div>"
      ],
      "text/plain": [
       "   pixel0  pixel1  pixel2  pixel3  pixel4  pixel5  pixel6  pixel7  pixel8  \\\n",
       "0       0       0       0       0       0       0       0       0       0   \n",
       "1       0       0       0       0       0       0       0       0       0   \n",
       "2       0       0       0       0       0       0       0       0       0   \n",
       "3       0       0       0       0       0       0       0       0       0   \n",
       "4       0       0       0       0       0       0       0       0       0   \n",
       "\n",
       "   pixel9    ...     pixel774  pixel775  pixel776  pixel777  pixel778  \\\n",
       "0       0    ...            0         0         0         0         0   \n",
       "1       0    ...            0         0         0         0         0   \n",
       "2       0    ...            0         0         0         0         0   \n",
       "3       0    ...            0         0         0         0         0   \n",
       "4       0    ...            0         0         0         0         0   \n",
       "\n",
       "   pixel779  pixel780  pixel781  pixel782  pixel783  \n",
       "0         0         0         0         0         0  \n",
       "1         0         0         0         0         0  \n",
       "2         0         0         0         0         0  \n",
       "3         0         0         0         0         0  \n",
       "4         0         0         0         0         0  \n",
       "\n",
       "[5 rows x 784 columns]"
      ]
     },
     "execution_count": 3,
     "metadata": {},
     "output_type": "execute_result"
    }
   ],
   "source": [
    "test_df = pd.read_csv(\"test.csv\")\n",
    "test_df.head()"
   ]
  },
  {
   "cell_type": "code",
   "execution_count": 4,
   "metadata": {},
   "outputs": [
    {
     "name": "stdout",
     "output_type": "stream",
     "text": [
      "Training data shape: (42000, 785)\n"
     ]
    }
   ],
   "source": [
    "print(\"Training data shape:\", train_df.shape)"
   ]
  },
  {
   "cell_type": "code",
   "execution_count": 5,
   "metadata": {},
   "outputs": [
    {
     "name": "stdout",
     "output_type": "stream",
     "text": [
      "Testing data shape: (28000, 784)\n"
     ]
    }
   ],
   "source": [
    "print(\"Testing data shape:\", test_df.shape)"
   ]
  },
  {
   "cell_type": "markdown",
   "metadata": {},
   "source": [
    "# Check if the labels are in shuffled order or not, i.e data is randomized or not"
   ]
  },
  {
   "cell_type": "code",
   "execution_count": 6,
   "metadata": {},
   "outputs": [
    {
     "name": "stdout",
     "output_type": "stream",
     "text": [
      "0     1\n",
      "1     0\n",
      "2     1\n",
      "3     4\n",
      "4     0\n",
      "5     0\n",
      "6     7\n",
      "7     3\n",
      "8     5\n",
      "9     3\n",
      "10    8\n",
      "11    9\n",
      "12    1\n",
      "13    3\n",
      "14    3\n",
      "15    1\n",
      "16    2\n",
      "17    0\n",
      "18    7\n",
      "19    5\n",
      "Name: label, dtype: int64\n"
     ]
    }
   ],
   "source": [
    "#printing first 20 labels\n",
    "print(train_df.label[:20])"
   ]
  },
  {
   "cell_type": "markdown",
   "metadata": {},
   "source": [
    "# Get data into numpy arrays"
   ]
  },
  {
   "cell_type": "code",
   "execution_count": 7,
   "metadata": {},
   "outputs": [
    {
     "name": "stdout",
     "output_type": "stream",
     "text": [
      "(42000, 784) (42000,)\n"
     ]
    }
   ],
   "source": [
    "train_df_values = train_df.values\n",
    "training_data, training_labels = train_df_values[:, 1:], train_df_values[:, 0]\n",
    "print(training_data.shape, training_labels.shape)"
   ]
  },
  {
   "cell_type": "code",
   "execution_count": 8,
   "metadata": {},
   "outputs": [
    {
     "name": "stdout",
     "output_type": "stream",
     "text": [
      "(28000, 784)\n"
     ]
    }
   ],
   "source": [
    "#testing data from kaggle, will be used for submission \n",
    "final_testing_data = test_df.values\n",
    "print(final_testing_data.shape)"
   ]
  },
  {
   "cell_type": "markdown",
   "metadata": {},
   "source": [
    "# Split data into training and testing data"
   ]
  },
  {
   "cell_type": "code",
   "execution_count": 9,
   "metadata": {},
   "outputs": [],
   "source": [
    "#doing train_test_split on training data\n",
    "from sklearn.model_selection import train_test_split"
   ]
  },
  {
   "cell_type": "code",
   "execution_count": 10,
   "metadata": {
    "collapsed": true
   },
   "outputs": [],
   "source": [
    "#train_test_split?"
   ]
  },
  {
   "cell_type": "code",
   "execution_count": 11,
   "metadata": {},
   "outputs": [],
   "source": [
    "X_train, X_test, y_train, y_test = train_test_split(training_data, training_labels, \n",
    "                                                    test_size=0.2,\n",
    "                                                    random_state=42\n",
    "                                                   )"
   ]
  },
  {
   "cell_type": "code",
   "execution_count": 12,
   "metadata": {},
   "outputs": [
    {
     "name": "stdout",
     "output_type": "stream",
     "text": [
      "(33600, 784) (8400, 784) (33600,) (8400,)\n"
     ]
    }
   ],
   "source": [
    "print(X_train.shape, X_test.shape, y_train.shape, y_test.shape)"
   ]
  },
  {
   "cell_type": "markdown",
   "metadata": {},
   "source": [
    "# Displaying first 25 images"
   ]
  },
  {
   "cell_type": "code",
   "execution_count": 13,
   "metadata": {},
   "outputs": [
    {
     "data": {
      "image/png": "[encoded data removed]",
      "text/plain": [
       "<matplotlib.figure.Figure at 0x18f6b4c3198>"
      ]
     },
     "metadata": {},
     "output_type": "display_data"
    }
   ],
   "source": [
    "plt.figure(figsize=(10, 10))\n",
    "for i in range(25):\n",
    "    plt.subplot(5, 5, i+1)\n",
    "    plt.imshow(X_train[i].reshape(28, 28), cmap='gray')\n",
    "    plt.title(y_train[i])\n",
    "    plt.axis(\"off\")\n",
    "plt.show()"
   ]
  },
  {
   "cell_type": "markdown",
   "metadata": {},
   "source": [
    "# converting linear image data into (28, 28) shape format"
   ]
  },
  {
   "cell_type": "code",
   "execution_count": 14,
   "metadata": {},
   "outputs": [
    {
     "name": "stdout",
     "output_type": "stream",
     "text": [
      "(33600, 28, 28, 1)\n",
      "(8400, 28, 28, 1)\n",
      "(28000, 28, 28, 1)\n"
     ]
    }
   ],
   "source": [
    "X_train = X_train.reshape(X_train.shape[0], 28, 28, 1)\n",
    "X_test = X_test.reshape(X_test.shape[0], 28, 28, 1)\n",
    "final_testing_data = final_testing_data.reshape(final_testing_data.shape[0], 28, 28, 1)\n",
    "print(X_train.shape)\n",
    "print(X_test.shape)\n",
    "print(final_testing_data.shape)"
   ]
  },
  {
   "cell_type": "markdown",
   "metadata": {},
   "source": [
    "# Normalizing pixel values"
   ]
  },
  {
   "cell_type": "code",
   "execution_count": 15,
   "metadata": {
    "collapsed": true
   },
   "outputs": [],
   "source": [
    "#normalize the pixel values for each image, we can do this\n",
    "#by dividing by 255\n",
    "X_train = X_train/255.0\n",
    "X_test = X_test/255.0\n",
    "final_testing_data = final_testing_data/255.0"
   ]
  },
  {
   "cell_type": "code",
   "execution_count": 16,
   "metadata": {
    "scrolled": true
   },
   "outputs": [
    {
     "data": {
      "image/png": "[encoded data removed]",
      "text/plain": [
       "<matplotlib.figure.Figure at 0x18f6b4c30f0>"
      ]
     },
     "metadata": {},
     "output_type": "display_data"
    }
   ],
   "source": [
    "#checking that the images have not been affected\n",
    "plt.figure(figsize=(10, 10))\n",
    "for i in range(25):\n",
    "    plt.subplot(5, 5, i+1)\n",
    "    plt.imshow(X_train[i].reshape(28, 28), cmap='gray')\n",
    "    plt.title(y_train[i])\n",
    "    plt.axis(\"off\")\n",
    "plt.show()"
   ]
  },
  {
   "cell_type": "code",
   "execution_count": 17,
   "metadata": {},
   "outputs": [],
   "source": [
    "#checking keras version\n",
    "import keras"
   ]
  },
  {
   "cell_type": "code",
   "execution_count": 18,
   "metadata": {},
   "outputs": [
    {
     "name": "stdout",
     "output_type": "stream",
     "text": [
      "2.4.3\n"
     ]
    }
   ],
   "source": [
    "print(keras.__version__)"
   ]
  },
  {
   "cell_type": "code",
   "execution_count": 19,
   "metadata": {
    "collapsed": true
   },
   "outputs": [],
   "source": [
    "#import libraries to create CNN model\n",
    "#to convert label into categorical data\n",
    "from keras.utils import to_categorical\n",
    "#CNN will be a sequential model\n",
    "from keras.models import Sequential\n",
    "#for 2D convolutions\n",
    "from keras.layers import Conv2D\n",
    "#for 2D maxpooling at each layer\n",
    "from keras.layers import MaxPooling2D\n",
    "#for last layer\n",
    "from keras.layers import Dense\n",
    "from keras.layers import Flatten\n",
    "#optimizer\n",
    "from keras.optimizers import SGD, Adam\n",
    "from sklearn.model_selection import KFold"
   ]
  },
  {
   "cell_type": "code",
   "execution_count": 20,
   "metadata": {
    "collapsed": true
   },
   "outputs": [],
   "source": [
    "#defining model\n",
    "def define_model():\n",
    "    model = Sequential()\n",
    "    model.add(Conv2D(64, (3, 3), activation='relu', input_shape=(28, 28, 1)))\n",
    "    model.add(MaxPooling2D(2, 2))\n",
    "    #model.add(Conv2D(64, (3, 3), activation='relu'))\n",
    "    #model.add(MaxPooling2D(2, 2))\n",
    "    model.add(Flatten())\n",
    "    model.add(Dense(128, activation='relu'))\n",
    "    model.add(Dense(10, activation='softmax'))\n",
    "    #optimizer \n",
    "    opt = SGD(lr=0.01, momentum=0.9)\n",
    "    model.compile(optimizer=opt, loss='categorical_crossentropy',\n",
    "                  metrics=['accuracy']\n",
    "                 )\n",
    "    print(model.summary())\n",
    "    return model"
   ]
  },
  {
   "cell_type": "code",
   "execution_count": 21,
   "metadata": {
    "collapsed": true
   },
   "outputs": [],
   "source": [
    "# evaluating model using K-fold cross validation\n",
    "def evaluate_model(X, Y, n_folds=7):\n",
    "    scores, histories, testing_accuracies = [], [], []\n",
    "    \n",
    "    #store the weights in best model\n",
    "    best_model = None\n",
    "    best_acc = 0.0\n",
    "    #prepare cross validation\n",
    "    kfold = KFold(n_folds, shuffle=True, random_state=42)\n",
    "    \n",
    "    for train_idx, test_idx in kfold.split(X): \n",
    "        model = define_model()\n",
    "        X_train, y_train = X[train_idx], Y[train_idx]\n",
    "        X_test, y_test = X[test_idx], Y[test_idx]\n",
    "        \n",
    "        #convert classes labels to categorical features\n",
    "        y_train = to_categorical(y_train)\n",
    "        y_test = to_categorical(y_test)\n",
    "        \n",
    "        #fit model\n",
    "        history = model.fit(X_train, y_train, epochs=10, batch_size=32,\n",
    "                            validation_data=(X_test, y_test), verbose=1\n",
    "                           )\n",
    "        _, acc = model.evaluate(X_test, y_test, verbose=1)\n",
    "        print('>%3f'%(acc*100))\n",
    "        #if accuracy at last training step is better than \n",
    "        #the previous model then store the model \n",
    "        if acc>best_acc:\n",
    "            best_model = model\n",
    "            \n",
    "        #append the accuracies to testing_accuracies\n",
    "        testing_accuracies.append(acc*100)\n",
    "        \n",
    "        #append store\n",
    "        scores.append(acc)\n",
    "        histories.append(history)\n",
    "    return best_model, scores, histories, testing_accuracies"
   ]
  },
  {
   "cell_type": "code",
   "execution_count": 22,
   "metadata": {},
   "outputs": [],
   "source": [
    "#plot loss and accuracy curves\n",
    "def summarize_diagnostics(histories):\n",
    "    plt.figure(figsize=(10, 10))\n",
    "    for i in range(len(histories)):\n",
    "        #plotting loss\n",
    "        plt.subplot(2, 1, 1)\n",
    "        plt.title(\"Cross Entropy Loss\")\n",
    "        plt.plot(histories[i].history['loss'], color='blue', label='train')\n",
    "        plt.plot(histories[i].history['val_loss'], color='orange', label='test')\n",
    "        plt.legend()\n",
    "        plt.subplot(2, 1, 2)\n",
    "        plt.title(\"Accuracy\")\n",
    "        plt.plot(histories[i].history['accuracy'], color='blue', label='train')\n",
    "        plt.plot(histories[i].history['val_accuracy'], color='orange', label='test')\n",
    "        plt.legend()\n",
    "    plt.show()   "
   ]
  },
  {
   "cell_type": "code",
   "execution_count": 23,
   "metadata": {
    "collapsed": true
   },
   "outputs": [],
   "source": [
    "def predict_with_best_model(best_model, X):\n",
    "    return best_model.predict_classes(X)"
   ]
  },
  {
   "cell_type": "code",
   "execution_count": 24,
   "metadata": {
    "scrolled": true
   },
   "outputs": [
    {
     "name": "stdout",
     "output_type": "stream",
     "text": [
      "Model: \"sequential\"\n",
      "_________________________________________________________________\n",
      "Layer (type)                 Output Shape              Param #   \n",
      "=================================================================\n",
      "conv2d (Conv2D)              (None, 26, 26, 64)        640       \n",
      "_________________________________________________________________\n",
      "max_pooling2d (MaxPooling2D) (None, 13, 13, 64)        0         \n",
      "_________________________________________________________________\n",
      "flatten (Flatten)            (None, 10816)             0         \n",
      "_________________________________________________________________\n",
      "dense (Dense)                (None, 128)               1384576   \n",
      "_________________________________________________________________\n",
      "dense_1 (Dense)              (None, 10)                1290      \n",
      "=================================================================\n",
      "Total params: 1,386,506\n",
      "Trainable params: 1,386,506\n",
      "Non-trainable params: 0\n",
      "_________________________________________________________________\n",
      "None\n",
      "Epoch 1/10\n",
      "840/840 [==============================] - 8s 7ms/step - loss: 0.6157 - accuracy: 0.8121 - val_loss: 0.1857 - val_accuracy: 0.9429\n",
      "Epoch 2/10\n",
      "840/840 [==============================] - 5s 6ms/step - loss: 0.1500 - accuracy: 0.9534 - val_loss: 0.1103 - val_accuracy: 0.9680\n",
      "Epoch 3/10\n",
      "840/840 [==============================] - 5s 6ms/step - loss: 0.0872 - accuracy: 0.9738 - val_loss: 0.0855 - val_accuracy: 0.9743\n",
      "Epoch 4/10\n",
      "840/840 [==============================] - 5s 6ms/step - loss: 0.0617 - accuracy: 0.9816 - val_loss: 0.0844 - val_accuracy: 0.9744\n",
      "Epoch 5/10\n",
      "840/840 [==============================] - 5s 6ms/step - loss: 0.0390 - accuracy: 0.9882 - val_loss: 0.0747 - val_accuracy: 0.9763\n",
      "Epoch 6/10\n",
      "840/840 [==============================] - 5s 6ms/step - loss: 0.0294 - accuracy: 0.9914 - val_loss: 0.0694 - val_accuracy: 0.9780\n",
      "Epoch 7/10\n",
      "840/840 [==============================] - 5s 6ms/step - loss: 0.0226 - accuracy: 0.9930 - val_loss: 0.0642 - val_accuracy: 0.9799\n",
      "Epoch 8/10\n",
      "840/840 [==============================] - 5s 6ms/step - loss: 0.0178 - accuracy: 0.9950 - val_loss: 0.0685 - val_accuracy: 0.9793\n",
      "Epoch 9/10\n",
      "840/840 [==============================] - 5s 6ms/step - loss: 0.0107 - accuracy: 0.9976 - val_loss: 0.0674 - val_accuracy: 0.9814\n",
      "Epoch 10/10\n",
      "840/840 [==============================] - 5s 6ms/step - loss: 0.0073 - accuracy: 0.9989 - val_loss: 0.0729 - val_accuracy: 0.9796\n",
      "210/210 [==============================] - 1s 3ms/step - loss: 0.0729 - accuracy: 0.9796\n",
      ">97.961307\n",
      "Model: \"sequential_1\"\n",
      "_________________________________________________________________\n",
      "Layer (type)                 Output Shape              Param #   \n",
      "=================================================================\n",
      "conv2d_1 (Conv2D)            (None, 26, 26, 64)        640       \n",
      "_________________________________________________________________\n",
      "max_pooling2d_1 (MaxPooling2 (None, 13, 13, 64)        0         \n",
      "_________________________________________________________________\n",
      "flatten_1 (Flatten)          (None, 10816)             0         \n",
      "_________________________________________________________________\n",
      "dense_2 (Dense)              (None, 128)               1384576   \n",
      "_________________________________________________________________\n",
      "dense_3 (Dense)              (None, 10)                1290      \n",
      "=================================================================\n",
      "Total params: 1,386,506\n",
      "Trainable params: 1,386,506\n",
      "Non-trainable params: 0\n",
      "_________________________________________________________________\n",
      "None\n",
      "Epoch 1/10\n",
      "840/840 [==============================] - 6s 6ms/step - loss: 0.6175 - accuracy: 0.8099 - val_loss: 0.2024 - val_accuracy: 0.9402\n",
      "Epoch 2/10\n",
      "840/840 [==============================] - 5s 6ms/step - loss: 0.1476 - accuracy: 0.9554 - val_loss: 0.1034 - val_accuracy: 0.9698\n",
      "Epoch 3/10\n",
      "840/840 [==============================] - 5s 6ms/step - loss: 0.0823 - accuracy: 0.9760 - val_loss: 0.0820 - val_accuracy: 0.9769\n",
      "Epoch 4/10\n",
      "840/840 [==============================] - 5s 6ms/step - loss: 0.0530 - accuracy: 0.9831 - val_loss: 0.0687 - val_accuracy: 0.9792\n",
      "Epoch 5/10\n",
      "840/840 [==============================] - 5s 6ms/step - loss: 0.0376 - accuracy: 0.9888 - val_loss: 0.0653 - val_accuracy: 0.9817\n",
      "Epoch 6/10\n",
      "840/840 [==============================] - 5s 6ms/step - loss: 0.0267 - accuracy: 0.9921 - val_loss: 0.0704 - val_accuracy: 0.9796\n",
      "Epoch 7/10\n",
      "840/840 [==============================] - 5s 6ms/step - loss: 0.0200 - accuracy: 0.9943 - val_loss: 0.0622 - val_accuracy: 0.9811\n",
      "Epoch 8/10\n",
      "840/840 [==============================] - 5s 6ms/step - loss: 0.0130 - accuracy: 0.9967 - val_loss: 0.0577 - val_accuracy: 0.9854\n",
      "Epoch 9/10\n",
      "840/840 [==============================] - 5s 6ms/step - loss: 0.0095 - accuracy: 0.9975 - val_loss: 0.0624 - val_accuracy: 0.9841\n",
      "Epoch 10/10\n",
      "840/840 [==============================] - 5s 6ms/step - loss: 0.0059 - accuracy: 0.9990 - val_loss: 0.0669 - val_accuracy: 0.9832\n",
      "210/210 [==============================] - 1s 3ms/step - loss: 0.0669 - accuracy: 0.9832\n",
      ">98.318452\n",
      "Model: \"sequential_2\"\n",
      "_________________________________________________________________\n",
      "Layer (type)                 Output Shape              Param #   \n",
      "=================================================================\n",
      "conv2d_2 (Conv2D)            (None, 26, 26, 64)        640       \n",
      "_________________________________________________________________\n",
      "max_pooling2d_2 (MaxPooling2 (None, 13, 13, 64)        0         \n",
      "_________________________________________________________________\n",
      "flatten_2 (Flatten)          (None, 10816)             0         \n",
      "_________________________________________________________________\n",
      "dense_4 (Dense)              (None, 128)               1384576   \n",
      "_________________________________________________________________\n",
      "dense_5 (Dense)              (None, 10)                1290      \n",
      "=================================================================\n",
      "Total params: 1,386,506\n",
      "Trainable params: 1,386,506\n",
      "Non-trainable params: 0\n",
      "_________________________________________________________________\n",
      "None\n",
      "Epoch 1/10\n",
      "840/840 [==============================] - 6s 7ms/step - loss: 0.6310 - accuracy: 0.8099 - val_loss: 0.1703 - val_accuracy: 0.9460\n",
      "Epoch 2/10\n",
      "840/840 [==============================] - 5s 6ms/step - loss: 0.1459 - accuracy: 0.9551 - val_loss: 0.1109 - val_accuracy: 0.9640\n",
      "Epoch 3/10\n",
      "840/840 [==============================] - 5s 6ms/step - loss: 0.0798 - accuracy: 0.9766 - val_loss: 0.0870 - val_accuracy: 0.9741\n",
      "Epoch 4/10\n",
      "840/840 [==============================] - 5s 6ms/step - loss: 0.0585 - accuracy: 0.9814 - val_loss: 0.0687 - val_accuracy: 0.9799\n",
      "Epoch 5/10\n",
      "840/840 [==============================] - 5s 6ms/step - loss: 0.0439 - accuracy: 0.9874 - val_loss: 0.0637 - val_accuracy: 0.9808\n",
      "Epoch 6/10\n",
      "840/840 [==============================] - 5s 6ms/step - loss: 0.0300 - accuracy: 0.9912 - val_loss: 0.0643 - val_accuracy: 0.9817\n",
      "Epoch 7/10\n",
      "840/840 [==============================] - 5s 6ms/step - loss: 0.0203 - accuracy: 0.9940 - val_loss: 0.0661 - val_accuracy: 0.9824\n",
      "Epoch 8/10\n",
      "840/840 [==============================] - 5s 6ms/step - loss: 0.0168 - accuracy: 0.9953 - val_loss: 0.0615 - val_accuracy: 0.9826\n",
      "Epoch 9/10\n",
      "840/840 [==============================] - 5s 6ms/step - loss: 0.0110 - accuracy: 0.9975 - val_loss: 0.0632 - val_accuracy: 0.9823\n",
      "Epoch 10/10\n",
      "840/840 [==============================] - 5s 6ms/step - loss: 0.0092 - accuracy: 0.9976 - val_loss: 0.0601 - val_accuracy: 0.9844\n",
      "210/210 [==============================] - 1s 3ms/step - loss: 0.0601 - accuracy: 0.9844\n",
      ">98.437500\n",
      "Model: \"sequential_3\"\n",
      "_________________________________________________________________\n",
      "Layer (type)                 Output Shape              Param #   \n",
      "=================================================================\n",
      "conv2d_3 (Conv2D)            (None, 26, 26, 64)        640       \n",
      "_________________________________________________________________\n",
      "max_pooling2d_3 (MaxPooling2 (None, 13, 13, 64)        0         \n",
      "_________________________________________________________________\n",
      "flatten_3 (Flatten)          (None, 10816)             0         \n",
      "_________________________________________________________________\n",
      "dense_6 (Dense)              (None, 128)               1384576   \n",
      "_________________________________________________________________\n",
      "dense_7 (Dense)              (None, 10)                1290      \n",
      "=================================================================\n",
      "Total params: 1,386,506\n",
      "Trainable params: 1,386,506\n",
      "Non-trainable params: 0\n",
      "_________________________________________________________________\n",
      "None\n"
     ]
    },
    {
     "name": "stdout",
     "output_type": "stream",
     "text": [
      "Epoch 1/10\n",
      "840/840 [==============================] - 6s 6ms/step - loss: 0.6241 - accuracy: 0.8155 - val_loss: 0.1622 - val_accuracy: 0.9507\n",
      "Epoch 2/10\n",
      "840/840 [==============================] - 5s 6ms/step - loss: 0.1327 - accuracy: 0.9604 - val_loss: 0.1205 - val_accuracy: 0.9624\n",
      "Epoch 3/10\n",
      "840/840 [==============================] - 5s 6ms/step - loss: 0.0816 - accuracy: 0.9749 - val_loss: 0.0917 - val_accuracy: 0.9704\n",
      "Epoch 4/10\n",
      "840/840 [==============================] - 5s 6ms/step - loss: 0.0574 - accuracy: 0.9831 - val_loss: 0.0807 - val_accuracy: 0.9741\n",
      "Epoch 5/10\n",
      "840/840 [==============================] - 5s 6ms/step - loss: 0.0416 - accuracy: 0.9880 - val_loss: 0.0749 - val_accuracy: 0.9754\n",
      "Epoch 6/10\n",
      "840/840 [==============================] - 5s 6ms/step - loss: 0.0282 - accuracy: 0.9913 - val_loss: 0.0714 - val_accuracy: 0.9789\n",
      "Epoch 7/10\n",
      "840/840 [==============================] - 5s 6ms/step - loss: 0.0251 - accuracy: 0.9930 - val_loss: 0.0681 - val_accuracy: 0.9792\n",
      "Epoch 8/10\n",
      "840/840 [==============================] - 5s 6ms/step - loss: 0.0161 - accuracy: 0.9960 - val_loss: 0.0700 - val_accuracy: 0.9772\n",
      "Epoch 9/10\n",
      "840/840 [==============================] - 5s 6ms/step - loss: 0.0104 - accuracy: 0.9973 - val_loss: 0.0700 - val_accuracy: 0.9784\n",
      "Epoch 10/10\n",
      "840/840 [==============================] - 5s 6ms/step - loss: 0.0080 - accuracy: 0.9984 - val_loss: 0.0697 - val_accuracy: 0.9783\n",
      "210/210 [==============================] - 1s 3ms/step - loss: 0.0697 - accuracy: 0.9783\n",
      ">97.827381\n",
      "Model: \"sequential_4\"\n",
      "_________________________________________________________________\n",
      "Layer (type)                 Output Shape              Param #   \n",
      "=================================================================\n",
      "conv2d_4 (Conv2D)            (None, 26, 26, 64)        640       \n",
      "_________________________________________________________________\n",
      "max_pooling2d_4 (MaxPooling2 (None, 13, 13, 64)        0         \n",
      "_________________________________________________________________\n",
      "flatten_4 (Flatten)          (None, 10816)             0         \n",
      "_________________________________________________________________\n",
      "dense_8 (Dense)              (None, 128)               1384576   \n",
      "_________________________________________________________________\n",
      "dense_9 (Dense)              (None, 10)                1290      \n",
      "=================================================================\n",
      "Total params: 1,386,506\n",
      "Trainable params: 1,386,506\n",
      "Non-trainable params: 0\n",
      "_________________________________________________________________\n",
      "None\n",
      "Epoch 1/10\n",
      "840/840 [==============================] - 6s 6ms/step - loss: 0.6283 - accuracy: 0.8058 - val_loss: 0.1798 - val_accuracy: 0.9458\n",
      "Epoch 2/10\n",
      "840/840 [==============================] - 5s 6ms/step - loss: 0.1458 - accuracy: 0.9565 - val_loss: 0.1198 - val_accuracy: 0.9637\n",
      "Epoch 3/10\n",
      "840/840 [==============================] - 5s 6ms/step - loss: 0.0890 - accuracy: 0.9744 - val_loss: 0.0953 - val_accuracy: 0.9711\n",
      "Epoch 4/10\n",
      "840/840 [==============================] - 5s 6ms/step - loss: 0.0545 - accuracy: 0.9831 - val_loss: 0.0887 - val_accuracy: 0.9740\n",
      "Epoch 5/10\n",
      "840/840 [==============================] - 5s 6ms/step - loss: 0.0390 - accuracy: 0.9887 - val_loss: 0.0764 - val_accuracy: 0.9772\n",
      "Epoch 6/10\n",
      "840/840 [==============================] - 5s 6ms/step - loss: 0.0288 - accuracy: 0.9910 - val_loss: 0.0709 - val_accuracy: 0.9792\n",
      "Epoch 7/10\n",
      "840/840 [==============================] - 5s 6ms/step - loss: 0.0202 - accuracy: 0.9944 - val_loss: 0.0790 - val_accuracy: 0.9778\n",
      "Epoch 8/10\n",
      "840/840 [==============================] - 5s 6ms/step - loss: 0.0153 - accuracy: 0.9954 - val_loss: 0.0780 - val_accuracy: 0.9793\n",
      "Epoch 9/10\n",
      "840/840 [==============================] - 5s 6ms/step - loss: 0.0097 - accuracy: 0.9976 - val_loss: 0.0901 - val_accuracy: 0.9781\n",
      "Epoch 10/10\n",
      "840/840 [==============================] - 5s 6ms/step - loss: 0.0079 - accuracy: 0.9983 - val_loss: 0.0799 - val_accuracy: 0.9799\n",
      "210/210 [==============================] - 1s 3ms/step - loss: 0.0799 - accuracy: 0.9799\n",
      ">97.991073\n"
     ]
    }
   ],
   "source": [
    "#train your data\n",
    "best_model, scores, histories, testing_accuracies = evaluate_model(X_train, y_train, 5)"
   ]
  },
  {
   "cell_type": "code",
   "execution_count": 25,
   "metadata": {},
   "outputs": [
    {
     "data": {
      "image/png": "[encoded data removed]",
      "text/plain": [
       "<matplotlib.figure.Figure at 0x18fa1a59a20>"
      ]
     },
     "metadata": {},
     "output_type": "display_data"
    }
   ],
   "source": [
    "summarize_diagnostics(histories)"
   ]
  },
  {
   "cell_type": "code",
   "execution_count": 26,
   "metadata": {},
   "outputs": [
    {
     "name": "stdout",
     "output_type": "stream",
     "text": [
      "[97.96130657196045, 98.31845164299011, 98.4375, 97.82738089561462, 97.99107313156128]\n"
     ]
    }
   ],
   "source": [
    "print(testing_accuracies)"
   ]
  },
  {
   "cell_type": "code",
   "execution_count": 29,
   "metadata": {},
   "outputs": [
    {
     "name": "stdout",
     "output_type": "stream",
     "text": [
      "[2 0 9 ... 3 9 2]\n"
     ]
    }
   ],
   "source": [
    "#predictions = best_model.predict_classes(final_testing_data)\n",
    "predictions = np.argmax(best_model.predict(final_testing_data), axis=-1)\n",
    "print(predictions)"
   ]
  },
  {
   "cell_type": "code",
   "execution_count": 32,
   "metadata": {},
   "outputs": [],
   "source": [
    "answer_dict = {\n",
    "    'ImageId': [i+1 for i in range(len(predictions))],\n",
    "    'Label': predictions\n",
    "}"
   ]
  },
  {
   "cell_type": "code",
   "execution_count": 33,
   "metadata": {
    "collapsed": true
   },
   "outputs": [],
   "source": [
    "answers_df = pd.DataFrame(answer_dict)"
   ]
  },
  {
   "cell_type": "code",
   "execution_count": 34,
   "metadata": {},
   "outputs": [
    {
     "data": {
      "text/html": [
       "<div>\n",
       "<style>\n",
       "    .dataframe thead tr:only-child th {\n",
       "        text-align: right;\n",
       "    }\n",
       "\n",
       "    .dataframe thead th {\n",
       "        text-align: left;\n",
       "    }\n",
       "\n",
       "    .dataframe tbody tr th {\n",
       "        vertical-align: top;\n",
       "    }\n",
       "</style>\n",
       "<table border=\"1\" class=\"dataframe\">\n",
       "  <thead>\n",
       "    <tr style=\"text-align: right;\">\n",
       "      <th></th>\n",
       "      <th>ImageId</th>\n",
       "      <th>Label</th>\n",
       "    </tr>\n",
       "  </thead>\n",
       "  <tbody>\n",
       "    <tr>\n",
       "      <th>0</th>\n",
       "      <td>1</td>\n",
       "      <td>2</td>\n",
       "    </tr>\n",
       "    <tr>\n",
       "      <th>1</th>\n",
       "      <td>2</td>\n",
       "      <td>0</td>\n",
       "    </tr>\n",
       "    <tr>\n",
       "      <th>2</th>\n",
       "      <td>3</td>\n",
       "      <td>9</td>\n",
       "    </tr>\n",
       "    <tr>\n",
       "      <th>3</th>\n",
       "      <td>4</td>\n",
       "      <td>0</td>\n",
       "    </tr>\n",
       "    <tr>\n",
       "      <th>4</th>\n",
       "      <td>5</td>\n",
       "      <td>3</td>\n",
       "    </tr>\n",
       "  </tbody>\n",
       "</table>\n",
       "</div>"
      ],
      "text/plain": [
       "   ImageId  Label\n",
       "0        1      2\n",
       "1        2      0\n",
       "2        3      9\n",
       "3        4      0\n",
       "4        5      3"
      ]
     },
     "execution_count": 34,
     "metadata": {},
     "output_type": "execute_result"
    }
   ],
   "source": [
    "answers_df.head()"
   ]
  },
  {
   "cell_type": "code",
   "execution_count": 36,
   "metadata": {
    "collapsed": true
   },
   "outputs": [],
   "source": [
    "answers_df.to_csv('digit_recognizer_answers.csv', index=False)"
   ]
  },
  {
   "cell_type": "code",
   "execution_count": null,
   "metadata": {
    "collapsed": true
   },
   "outputs": [],
   "source": []
  }
 ],
 "metadata": {
  "kernelspec": {
   "display_name": "Python 3",
   "language": "python",
   "name": "python3"
  },
  "language_info": {
   "codemirror_mode": {
    "name": "ipython",
    "version": 3
   },
   "file_extension": ".py",
   "mimetype": "text/x-python",
   "name": "python",
   "nbconvert_exporter": "python",
   "pygments_lexer": "ipython3",
   "version": "3.6.2"
  }
 },
 "nbformat": 4,
 "nbformat_minor": 2
}
