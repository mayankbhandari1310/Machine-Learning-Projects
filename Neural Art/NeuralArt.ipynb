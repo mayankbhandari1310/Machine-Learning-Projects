{
 "cells": [
  {
   "cell_type": "code",
   "execution_count": 1,
   "metadata": {},
   "outputs": [
    {
     "name": "stderr",
     "output_type": "stream",
     "text": [
      "Using TensorFlow backend.\n"
     ]
    }
   ],
   "source": [
    "from keras.preprocessing.image import load_img, img_to_array\n",
    "from scipy.misc import imsave\n",
    "import numpy as np\n",
    "from scipy.optimize import fmin_l_bfgs_b\n",
    "import time\n",
    "\n",
    "from keras.applications import vgg16\n",
    "from keras import backend as K"
   ]
  },
  {
   "cell_type": "code",
   "execution_count": 63,
   "metadata": {
    "collapsed": true
   },
   "outputs": [],
   "source": [
    "base_image_path = 'image.jpg'\n",
    "style_reference_image_path = 'style.jpg'\n",
    "result_prefix = 'im'\n",
    "iterations = 10\n",
    "\n",
    "total_variation_weight = 1.0\n",
    "style_weight = 0.7\n",
    "content_weight = 0.5\n",
    "\n",
    "width, height = load_img(base_image_path).size\n",
    "img_nrows = 400\n",
    "img_ncols = int(width * img_nrows / height)"
   ]
  },
  {
   "cell_type": "code",
   "execution_count": 64,
   "metadata": {
    "collapsed": true
   },
   "outputs": [],
   "source": [
    "def preprocess_image(image_path):\n",
    "    img = load_img(image_path, target_size=(img_nrows, img_ncols))\n",
    "    img = img_to_array(img)\n",
    "    img = np.expand_dims(img, axis=0)\n",
    "    img = vgg16.preprocess_input(img)\n",
    "    return img\n",
    "\n",
    "def deprocess_image(x):\n",
    "    if K.image_data_format() == 'channels_first':\n",
    "        x = x.reshape((3, img_nrows, img_ncols))\n",
    "        x = x.transpose((1, 2, 0))\n",
    "    else:\n",
    "        x = x.reshape((img_nrows, img_ncols, 3))\n",
    "    # Remove zero-center by mean pixel\n",
    "    x[:, :, 0] += 103.939\n",
    "    x[:, :, 1] += 116.779\n",
    "    x[:, :, 2] += 123.68\n",
    "    # 'BGR'->'RGB'\n",
    "    x = x[:, :, ::-1]\n",
    "    x = np.clip(x, 0, 255).astype('uint8')\n",
    "    return x"
   ]
  },
  {
   "cell_type": "code",
   "execution_count": 65,
   "metadata": {
    "collapsed": true
   },
   "outputs": [],
   "source": [
    "base_image = K.variable(preprocess_image(base_image_path))\n",
    "style_reference_image = K.variable(preprocess_image(style_reference_image_path))"
   ]
  },
  {
   "cell_type": "code",
   "execution_count": 66,
   "metadata": {
    "collapsed": true
   },
   "outputs": [],
   "source": [
    "combination_image = K.placeholder((1, img_nrows, img_ncols, 3))\n",
    "\n",
    "input_tensor = K.concatenate([base_image,\n",
    "                              style_reference_image,\n",
    "                              combination_image], axis=0)"
   ]
  },
  {
   "cell_type": "code",
   "execution_count": 67,
   "metadata": {},
   "outputs": [
    {
     "name": "stdout",
     "output_type": "stream",
     "text": [
      "_________________________________________________________________\n",
      "Layer (type)                 Output Shape              Param #   \n",
      "=================================================================\n",
      "input_5 (InputLayer)         (3, 400, 533, 3)          0         \n",
      "_________________________________________________________________\n",
      "block1_conv1 (Conv2D)        (3, 400, 533, 64)         1792      \n",
      "_________________________________________________________________\n",
      "block1_conv2 (Conv2D)        (3, 400, 533, 64)         36928     \n",
      "_________________________________________________________________\n",
      "block1_pool (MaxPooling2D)   (3, 200, 266, 64)         0         \n",
      "_________________________________________________________________\n",
      "block2_conv1 (Conv2D)        (3, 200, 266, 128)        73856     \n",
      "_________________________________________________________________\n",
      "block2_conv2 (Conv2D)        (3, 200, 266, 128)        147584    \n",
      "_________________________________________________________________\n",
      "block2_pool (MaxPooling2D)   (3, 100, 133, 128)        0         \n",
      "_________________________________________________________________\n",
      "block3_conv1 (Conv2D)        (3, 100, 133, 256)        295168    \n",
      "_________________________________________________________________\n",
      "block3_conv2 (Conv2D)        (3, 100, 133, 256)        590080    \n",
      "_________________________________________________________________\n",
      "block3_conv3 (Conv2D)        (3, 100, 133, 256)        590080    \n",
      "_________________________________________________________________\n",
      "block3_pool (MaxPooling2D)   (3, 50, 66, 256)          0         \n",
      "_________________________________________________________________\n",
      "block4_conv1 (Conv2D)        (3, 50, 66, 512)          1180160   \n",
      "_________________________________________________________________\n",
      "block4_conv2 (Conv2D)        (3, 50, 66, 512)          2359808   \n",
      "_________________________________________________________________\n",
      "block4_conv3 (Conv2D)        (3, 50, 66, 512)          2359808   \n",
      "_________________________________________________________________\n",
      "block4_pool (MaxPooling2D)   (3, 25, 33, 512)          0         \n",
      "_________________________________________________________________\n",
      "block5_conv1 (Conv2D)        (3, 25, 33, 512)          2359808   \n",
      "_________________________________________________________________\n",
      "block5_conv2 (Conv2D)        (3, 25, 33, 512)          2359808   \n",
      "_________________________________________________________________\n",
      "block5_conv3 (Conv2D)        (3, 25, 33, 512)          2359808   \n",
      "_________________________________________________________________\n",
      "block5_pool (MaxPooling2D)   (3, 12, 16, 512)          0         \n",
      "=================================================================\n",
      "Total params: 14,714,688.0\n",
      "Trainable params: 14,714,688.0\n",
      "Non-trainable params: 0.0\n",
      "_________________________________________________________________\n"
     ]
    }
   ],
   "source": [
    "model = vgg16.VGG16(input_tensor=input_tensor,\n",
    "                    weights='imagenet', include_top=False)\n",
    "model.summary()"
   ]
  },
  {
   "cell_type": "code",
   "execution_count": 68,
   "metadata": {},
   "outputs": [
    {
     "name": "stdout",
     "output_type": "stream",
     "text": [
      "block4_pool Tensor(\"block4_pool_5/MaxPool:0\", shape=(3, 25, 33, 512), dtype=float32)\n",
      "block1_pool Tensor(\"block1_pool_5/MaxPool:0\", shape=(3, 200, 266, 64), dtype=float32)\n",
      "block4_conv1 Tensor(\"block4_conv1_5/Relu:0\", shape=(3, 50, 66, 512), dtype=float32)\n",
      "block2_conv1 Tensor(\"block2_conv1_5/Relu:0\", shape=(3, 200, 266, 128), dtype=float32)\n",
      "block2_conv2 Tensor(\"block2_conv2_5/Relu:0\", shape=(3, 200, 266, 128), dtype=float32)\n",
      "block4_conv2 Tensor(\"block4_conv2_5/Relu:0\", shape=(3, 50, 66, 512), dtype=float32)\n",
      "block4_conv3 Tensor(\"block4_conv3_5/Relu:0\", shape=(3, 50, 66, 512), dtype=float32)\n",
      "block2_pool Tensor(\"block2_pool_5/MaxPool:0\", shape=(3, 100, 133, 128), dtype=float32)\n",
      "block5_conv3 Tensor(\"block5_conv3_5/Relu:0\", shape=(3, 25, 33, 512), dtype=float32)\n",
      "block5_conv2 Tensor(\"block5_conv2_5/Relu:0\", shape=(3, 25, 33, 512), dtype=float32)\n",
      "block5_conv1 Tensor(\"block5_conv1_5/Relu:0\", shape=(3, 25, 33, 512), dtype=float32)\n",
      "block3_pool Tensor(\"block3_pool_5/MaxPool:0\", shape=(3, 50, 66, 256), dtype=float32)\n",
      "block1_conv2 Tensor(\"block1_conv2_5/Relu:0\", shape=(3, 400, 533, 64), dtype=float32)\n",
      "block1_conv1 Tensor(\"block1_conv1_5/Relu:0\", shape=(3, 400, 533, 64), dtype=float32)\n",
      "input_5 Tensor(\"concat_4:0\", shape=(3, 400, 533, 3), dtype=float32)\n",
      "block3_conv1 Tensor(\"block3_conv1_5/Relu:0\", shape=(3, 100, 133, 256), dtype=float32)\n",
      "block3_conv3 Tensor(\"block3_conv3_5/Relu:0\", shape=(3, 100, 133, 256), dtype=float32)\n",
      "block3_conv2 Tensor(\"block3_conv2_5/Relu:0\", shape=(3, 100, 133, 256), dtype=float32)\n",
      "block5_pool Tensor(\"block5_pool_5/MaxPool:0\", shape=(3, 12, 16, 512), dtype=float32)\n"
     ]
    }
   ],
   "source": [
    "outputs_dict = dict([(layer.name, layer.output) for layer in model.layers])\n",
    "for key in outputs_dict:\n",
    "    print key, outputs_dict[key]"
   ]
  },
  {
   "cell_type": "code",
   "execution_count": 69,
   "metadata": {
    "collapsed": true
   },
   "outputs": [],
   "source": [
    "def gram_matrix(x):\n",
    "    # features = K.batch_flatten(x)\n",
    "    features = K.batch_flatten(K.permute_dimensions(x, (2, 0, 1)))\n",
    "    gram = K.dot(features, K.transpose(features))\n",
    "    return gram\n",
    "\n",
    "def style_loss(style, combination):\n",
    "    assert K.ndim(style) == 3\n",
    "    assert K.ndim(combination) == 3\n",
    "    S = gram_matrix(style)\n",
    "    C = gram_matrix(combination)\n",
    "    channels = 3\n",
    "    size = img_nrows * img_ncols\n",
    "    return K.sum(K.square(S - C)) / (4. * (channels ** 2) * (size ** 2))\n",
    "\n",
    "def content_loss(base, combination):\n",
    "    return K.sum(K.square(combination - base))\n",
    "\n",
    "\n",
    "def total_variation_loss(x):\n",
    "    assert K.ndim(x) == 4\n",
    "    \n",
    "    a = K.square(x[:, :img_nrows - 1, :img_ncols - 1, :] - x[:, 1:, :img_ncols - 1, :])\n",
    "    b = K.square(x[:, :img_nrows - 1, :img_ncols - 1, :] - x[:, :img_nrows - 1, 1:, :])\n",
    "    return K.sum(K.pow(a + b, 1.25))"
   ]
  },
  {
   "cell_type": "code",
   "execution_count": 70,
   "metadata": {
    "collapsed": true
   },
   "outputs": [],
   "source": [
    "loss = K.variable(0.)\n",
    "layer_features = outputs_dict['block4_conv2']\n",
    "base_image_features = layer_features[0, :, :, :]\n",
    "combination_features = layer_features[2, :, :, :]\n",
    "loss += content_weight * content_loss(base_image_features,\n",
    "                                      combination_features)"
   ]
  },
  {
   "cell_type": "code",
   "execution_count": 71,
   "metadata": {
    "collapsed": true
   },
   "outputs": [],
   "source": [
    "feature_layers = ['block1_conv1', 'block2_conv1',\n",
    "                  'block3_conv1', 'block4_conv1',\n",
    "                  'block5_conv1']"
   ]
  },
  {
   "cell_type": "code",
   "execution_count": 72,
   "metadata": {
    "collapsed": true
   },
   "outputs": [],
   "source": [
    "for layer_name in feature_layers:\n",
    "    layer_features = outputs_dict[layer_name]\n",
    "    style_reference_features = layer_features[1, :, :, :]\n",
    "    combination_features = layer_features[2, :, :, :]\n",
    "    sl = style_loss(style_reference_features, combination_features)\n",
    "    loss += (style_weight / len(feature_layers)) * sl\n",
    "\n",
    "loss += total_variation_weight * total_variation_loss(combination_image)"
   ]
  },
  {
   "cell_type": "code",
   "execution_count": 73,
   "metadata": {
    "collapsed": true
   },
   "outputs": [],
   "source": [
    "grads = K.gradients(loss, combination_image)\n",
    "\n",
    "outputs = [loss]\n",
    "if isinstance(grads, (list, tuple)):\n",
    "    outputs += grads\n",
    "else:\n",
    "    outputs.append(grads)\n",
    "\n",
    "f_outputs = K.function([combination_image], outputs)"
   ]
  },
  {
   "cell_type": "code",
   "execution_count": 74,
   "metadata": {
    "collapsed": true
   },
   "outputs": [],
   "source": [
    "def eval_loss_and_grads(x):\n",
    "    if K.image_data_format() == 'channels_first':\n",
    "        x = x.reshape((1, 3, img_nrows, img_ncols))\n",
    "    else:\n",
    "        x = x.reshape((1, img_nrows, img_ncols, 3))\n",
    "    outs = f_outputs([x])\n",
    "    loss_value = outs[0]\n",
    "    if len(outs[1:]) == 1:\n",
    "        grad_values = outs[1].flatten().astype('float64')\n",
    "    else:\n",
    "        grad_values = np.array(outs[1:]).flatten().astype('float64')\n",
    "    return loss_value, grad_values"
   ]
  },
  {
   "cell_type": "code",
   "execution_count": 75,
   "metadata": {
    "collapsed": true
   },
   "outputs": [],
   "source": [
    "class Evaluator(object):\n",
    "\n",
    "    def __init__(self):\n",
    "        self.loss_value = None\n",
    "        self.grads_values = None\n",
    "\n",
    "    def loss(self, x):\n",
    "        assert self.loss_value is None\n",
    "        loss_value, grad_values = eval_loss_and_grads(x)\n",
    "        self.loss_value = loss_value\n",
    "        self.grad_values = grad_values\n",
    "        return self.loss_value\n",
    "\n",
    "    def grads(self, x):\n",
    "        assert self.loss_value is not None\n",
    "        grad_values = np.copy(self.grad_values)\n",
    "        self.loss_value = None\n",
    "        self.grad_values = None\n",
    "        return grad_values\n",
    "\n",
    "evaluator = Evaluator()"
   ]
  },
  {
   "cell_type": "code",
   "execution_count": 76,
   "metadata": {},
   "outputs": [
    {
     "name": "stdout",
     "output_type": "stream",
     "text": [
      "('Start of iteration', 0)\n",
      "('Current loss value:', 7.2344904e+10)\n",
      "('Image saved as', 'results/im_at_iteration_0.png')\n",
      "Iteration 0 completed in 23s\n",
      "('Start of iteration', 1)\n",
      "('Current loss value:', 3.2852105e+10)\n",
      "('Image saved as', 'results/im_at_iteration_1.png')\n",
      "Iteration 1 completed in 23s\n",
      "('Start of iteration', 2)\n",
      "('Current loss value:', 2.5034301e+10)\n",
      "('Image saved as', 'results/im_at_iteration_2.png')\n",
      "Iteration 2 completed in 23s\n",
      "('Start of iteration', 3)\n",
      "('Current loss value:', 2.2248387e+10)\n",
      "('Image saved as', 'results/im_at_iteration_3.png')\n",
      "Iteration 3 completed in 23s\n",
      "('Start of iteration', 4)\n",
      "('Current loss value:', 2.0828391e+10)\n",
      "('Image saved as', 'results/im_at_iteration_4.png')\n",
      "Iteration 4 completed in 23s\n",
      "('Start of iteration', 5)\n",
      "('Current loss value:', 1.9998147e+10)\n",
      "('Image saved as', 'results/im_at_iteration_5.png')\n",
      "Iteration 5 completed in 23s\n",
      "('Start of iteration', 6)\n",
      "('Current loss value:', 1.9452068e+10)\n",
      "('Image saved as', 'results/im_at_iteration_6.png')\n",
      "Iteration 6 completed in 23s\n",
      "('Start of iteration', 7)\n",
      "('Current loss value:', 1.9060795e+10)\n",
      "('Image saved as', 'results/im_at_iteration_7.png')\n",
      "Iteration 7 completed in 23s\n",
      "('Start of iteration', 8)\n",
      "('Current loss value:', 1.8770221e+10)\n",
      "('Image saved as', 'results/im_at_iteration_8.png')\n",
      "Iteration 8 completed in 23s\n",
      "('Start of iteration', 9)\n",
      "('Current loss value:', 1.8537345e+10)\n",
      "('Image saved as', 'results/im_at_iteration_9.png')\n",
      "Iteration 9 completed in 23s\n"
     ]
    }
   ],
   "source": [
    "# x = np.random.uniform(0, 255, (1, img_nrows, img_ncols, 3)) - 128.\n",
    "x = np.zeros((1, img_nrows, img_ncols, 3))\n",
    "\n",
    "for i in range(iterations):\n",
    "    print('Start of iteration', i)\n",
    "    start_time = time.time()\n",
    "    x, min_val, info = fmin_l_bfgs_b(evaluator.loss, x.flatten(),\n",
    "                                     fprime=evaluator.grads, maxfun=20)\n",
    "    print('Current loss value:', min_val)\n",
    "    \n",
    "    img = deprocess_image(x.copy())\n",
    "    fname = 'results/im' + '_at_iteration_%d.png' % i\n",
    "    imsave(fname, img)\n",
    "    end_time = time.time()\n",
    "    print('Image saved as', fname)\n",
    "    print('Iteration %d completed in %ds' % (i, end_time - start_time))"
   ]
  },
  {
   "cell_type": "code",
   "execution_count": null,
   "metadata": {
    "collapsed": true
   },
   "outputs": [],
   "source": []
  }
 ],
 "metadata": {
  "kernelspec": {
   "display_name": "Python 3",
   "language": "python",
   "name": "python3"
  },
  "language_info": {
   "codemirror_mode": {
    "name": "ipython",
    "version": 3
   },
   "file_extension": ".py",
   "mimetype": "text/x-python",
   "name": "python",
   "nbconvert_exporter": "python",
   "pygments_lexer": "ipython3",
   "version": "3.6.7"
  }
 },
 "nbformat": 4,
 "nbformat_minor": 2
}
